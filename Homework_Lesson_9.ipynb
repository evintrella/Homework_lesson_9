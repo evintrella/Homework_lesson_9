{
  "cells": [
    {
      "cell_type": "code",
      "execution_count": 1,
      "metadata": {
        "id": "acGzuY7MnkP_"
      },
      "outputs": [],
      "source": [
        "import requests\n",
        "from bs4 import BeautifulSoup\n",
        "import pandas as pd\n",
        "import time"
      ]
    },
    {
      "cell_type": "code",
      "execution_count": 2,
      "metadata": {
        "id": "rRN0aK55nsxZ",
        "colab": {
          "base_uri": "https://localhost:8080/"
        },
        "outputId": "8fea82fa-74c3-4bdb-a3f2-e7ea7c343b7e"
      },
      "outputs": [
        {
          "output_type": "stream",
          "name": "stdout",
          "text": [
            "Now Scraping page: 7\n",
            "Now Scraping page: 8\n",
            "Now Scraping page: 9\n",
            "Now Scraping page: 10\n"
          ]
        }
      ],
      "source": [
        "main_url = \"https://www.newsbeast.gr/page/\"\n",
        "\n",
        "teaser_soups_list = []\n",
        "\n",
        "for i in range(7, 11):\n",
        "  page_url = main_url + str(i)\n",
        "  page = requests.get(page_url)\n",
        "  teaser_soup = BeautifulSoup(page.text, 'html.parser')\n",
        "  print(f\"Now Scraping page: {i}\")\n",
        "  teaser_soups_list.append(teaser_soup)\n",
        "  time.sleep(2)"
      ]
    },
    {
      "cell_type": "code",
      "execution_count": null,
      "metadata": {
        "id": "LuA0bJOSonzJ"
      },
      "outputs": [],
      "source": [
        "#print(teaser_soup.prettify())"
      ]
    },
    {
      "cell_type": "code",
      "execution_count": null,
      "metadata": {
        "id": "xcr_CUJbqP_5"
      },
      "outputs": [],
      "source": [
        "teaser_soups_list[0].find_all('div', {'class': 'jsx-107431441 articleDisplay'})"
      ]
    },
    {
      "cell_type": "code",
      "execution_count": 5,
      "metadata": {
        "id": "4XYwT1wW3Zkn",
        "colab": {
          "base_uri": "https://localhost:8080/",
          "height": 36
        },
        "outputId": "a7d12ecc-07f8-46b2-fb5d-b511d36b7934"
      },
      "outputs": [
        {
          "output_type": "execute_result",
          "data": {
            "text/plain": [
              "'Υπουργείο Εργασίας: Αυξήθηκαν οι εργαζόμενοι με μισθωτή εξαρτημένη σχέση εργασίας και οι μέσες μηνιαίες αποδοχές'"
            ],
            "application/vnd.google.colaboratory.intrinsic+json": {
              "type": "string"
            }
          },
          "metadata": {},
          "execution_count": 5
        }
      ],
      "source": [
        "teaser_soups_list[0].find('div', {'class': 'jsx-107431441 articleDisplay'}).find('h4').find('a').text"
      ]
    },
    {
      "cell_type": "code",
      "execution_count": 6,
      "metadata": {
        "id": "MsTF1O8T4SyZ",
        "colab": {
          "base_uri": "https://localhost:8080/",
          "height": 53
        },
        "outputId": "3bb695da-4afc-44a7-9415-870fe3ac0419"
      },
      "outputs": [
        {
          "output_type": "execute_result",
          "data": {
            "text/plain": [
              "'/financial/arthro/9760548/ypourgeio-ergasias-afxithikan-oi-ergazomenoi-me-misthoti-exartimeni-schesi-ergasias-kai-oi-meses-miniaies-apodoches'"
            ],
            "application/vnd.google.colaboratory.intrinsic+json": {
              "type": "string"
            }
          },
          "metadata": {},
          "execution_count": 6
        }
      ],
      "source": [
        "teaser_soups_list[0].find('div', {'class': 'jsx-107431441 articleDisplay'}).find('h4').find('a')['href']"
      ]
    },
    {
      "cell_type": "code",
      "execution_count": 7,
      "metadata": {
        "id": "X-GWPVyj4qHf",
        "colab": {
          "base_uri": "https://localhost:8080/",
          "height": 36
        },
        "outputId": "d9bd9e1e-2ad0-4261-b993-daa8a6f9abd2"
      },
      "outputs": [
        {
          "output_type": "execute_result",
          "data": {
            "text/plain": [
              "'Σημαντική αύξηση των μέσων μηνιαίων αποδοχών κατά ποσοστό 14%'"
            ],
            "application/vnd.google.colaboratory.intrinsic+json": {
              "type": "string"
            }
          },
          "metadata": {},
          "execution_count": 7
        }
      ],
      "source": [
        "teaser_soups_list[0].find('div', {'class': 'jsx-107431441 articleDisplay'}).find('a', {'class':'subtitle'}).text"
      ]
    },
    {
      "cell_type": "code",
      "execution_count": 8,
      "metadata": {
        "id": "BK9oIiFM5gfb",
        "colab": {
          "base_uri": "https://localhost:8080/",
          "height": 36
        },
        "outputId": "28b22a2f-5ced-40f0-aa05-79644dad6c77"
      },
      "outputs": [
        {
          "output_type": "execute_result",
          "data": {
            "text/plain": [
              "'13/06/2023 17:08'"
            ],
            "application/vnd.google.colaboratory.intrinsic+json": {
              "type": "string"
            }
          },
          "metadata": {},
          "execution_count": 8
        }
      ],
      "source": [
        "teaser_soups_list[0].find('div', {'class': 'jsx-107431441 articleDisplay'}).find('time').text"
      ]
    },
    {
      "cell_type": "code",
      "execution_count": null,
      "metadata": {
        "id": "HRg5Rh8r54BG"
      },
      "outputs": [],
      "source": [
        "teaser_articles_list = []\n",
        "for teaser_soup in teaser_soups_list:\n",
        "  teaser_articles = teaser_soup.find_all('div', {'class': 'jsx-107431441 articleDisplay'})\n",
        "  for teaser_article in teaser_articles:\n",
        "    teaser_article_dict = {}\n",
        "    h4_a = teaser_article.find('h4').find('a')\n",
        "    if h4_a:\n",
        "      teaser_article_dict['Title'] = h4_a.text\n",
        "      if ('https://') not in h4_a['href']:\n",
        "        teaser_article_dict['Url'] = 'https://www.newsbeast.gr' + h4_a['href']\n",
        "      else :\n",
        "        teaser_article_dict['Url']= h4_a['href']\n",
        "      lead = teaser_article.find('a')\n",
        "      all=requests.get(teaser_article_dict['Url'])\n",
        "      all_ar=BeautifulSoup(all.text, 'html.parser')\n",
        "      whole_ar=all_ar.find('div',{'class':'jsx-2277262082'})\n",
        "      if whole_ar:\n",
        "        whole_ar=whole_ar.text\n",
        "      teaser_article_dict['Article_content']=whole_ar\n",
        "    if lead:\n",
        "      teaser_article_dict['Lead'] = lead.text\n",
        "    section = teaser_article.find('a', {'class': 'category'})\n",
        "    if section:\n",
        "      teaser_article_dict['Section'] = section.text\n",
        "    datetime = teaser_article.find('time')\n",
        "    if datetime:\n",
        "      teaser_article_dict['Datetime'] = datetime.text\n",
        "    teaser_articles_list.append(teaser_article_dict)\n",
        "\n",
        "# Δημιουργία του dataframe\n",
        "news_beast_teaser_articles_df = pd.DataFrame(teaser_articles_list)\n",
        "news_beast_teaser_articles_df.to_csv(\"news.csv\", index=False)\n",
        "news_beast_teaser_articles_df"
      ]
    },
    {
      "cell_type": "code",
      "execution_count": 10,
      "metadata": {
        "id": "M15xk6UtGxtA"
      },
      "outputs": [],
      "source": [
        "#!python -m spacy download el_core_news_sm"
      ]
    },
    {
      "cell_type": "code",
      "execution_count": 11,
      "metadata": {
        "id": "NiMbOVFatqA8",
        "colab": {
          "base_uri": "https://localhost:8080/"
        },
        "outputId": "35db216b-6a61-41c6-aaa1-fead903d0261"
      },
      "outputs": [
        {
          "output_type": "stream",
          "name": "stdout",
          "text": [
            "Mounted at gdrive\n"
          ]
        }
      ],
      "source": [
        "import numpy as np\n",
        "import matplotlib.pyplot as plt\n",
        "import datetime as Datetime\n",
        "\n",
        "from google.colab import drive\n",
        "drive.mount('gdrive')"
      ]
    },
    {
      "cell_type": "code",
      "execution_count": 12,
      "metadata": {
        "id": "Ksi9ei1B8yD6"
      },
      "outputs": [],
      "source": [
        "pd.set_option('display.max_colwidth', None)"
      ]
    },
    {
      "cell_type": "code",
      "execution_count": null,
      "metadata": {
        "id": "5Nm0AJn8KVW0"
      },
      "outputs": [],
      "source": [
        "news_beast_teaser_articles_df = pd.read_csv(\"news.csv\")\n",
        "news_beast_teaser_articles_df"
      ]
    },
    {
      "cell_type": "code",
      "execution_count": null,
      "metadata": {
        "id": "orV0dsnhJFXO"
      },
      "outputs": [],
      "source": [
        "print(news_beast_teaser_articles_df.shape)\n",
        "print(f\"dtype of 'Datetime' is: {news_beast_teaser_articles_df.Datetime.dtypes}. To θέλουμε σε datetime64[ns]\") #\n",
        "news_beast_teaser_articles_df.head(1)\n"
      ]
    },
    {
      "cell_type": "code",
      "execution_count": null,
      "metadata": {
        "id": "onHXzH3nohdR"
      },
      "outputs": [],
      "source": [
        "news_beast_teaser_articles_df.dtypes"
      ]
    },
    {
      "cell_type": "code",
      "execution_count": null,
      "metadata": {
        "id": "eq_MmAimze8T"
      },
      "outputs": [],
      "source": [
        "news_beast_teaser_articles_df[news_beast_teaser_articles_df['Datetime'].str.contains('Upd')]"
      ]
    },
    {
      "cell_type": "code",
      "execution_count": 17,
      "metadata": {
        "id": "hzwEAZsi0VU5"
      },
      "outputs": [],
      "source": [
        "news_beast_teaser_articles_df['Datetime']=news_beast_teaser_articles_df['Datetime'].str.replace('Upd: ', '')"
      ]
    },
    {
      "cell_type": "code",
      "execution_count": 18,
      "metadata": {
        "id": "kSLtAx9S0o5K"
      },
      "outputs": [],
      "source": [
        "news_beast_teaser_articles_df['Datetime'] = pd.to_datetime(news_beast_teaser_articles_df.Datetime , format='%d/%m/%Y %H:%M')"
      ]
    },
    {
      "cell_type": "code",
      "execution_count": null,
      "metadata": {
        "id": "4uH8jhwk0yQH"
      },
      "outputs": [],
      "source": [
        "news_beast_teaser_articles_df.dtypes"
      ]
    },
    {
      "cell_type": "code",
      "execution_count": null,
      "metadata": {
        "id": "SsIFEApk1aVg"
      },
      "outputs": [],
      "source": [
        "# Make a dataframe with selected columns only\n",
        "news_beast_articles_df = news_beast_teaser_articles_df[['Article_content','Datetime']]\n",
        "\n",
        "# Extract year, month and day from daytime\n",
        "news_beast_articles_df['year'] = pd.DatetimeIndex(news_beast_articles_df['Datetime']).year\n",
        "news_beast_articles_df['month'] = pd.DatetimeIndex(news_beast_articles_df['Datetime']).month\n",
        "news_beast_articles_df['day'] = pd.DatetimeIndex(news_beast_articles_df['Datetime']).day\n",
        "news_beast_articles_df['hour'] = pd.DatetimeIndex(news_beast_articles_df['Datetime']).hour\n",
        "# View dataframe info\n",
        "print(news_beast_articles_df.info())\n",
        "news_beast_articles_df.head()"
      ]
    },
    {
      "cell_type": "code",
      "source": [
        "#Άσκηση με site μου"
      ],
      "metadata": {
        "id": "4JYPHJbEMBDV"
      },
      "execution_count": 21,
      "outputs": []
    },
    {
      "cell_type": "code",
      "execution_count": 22,
      "metadata": {
        "id": "qsQ_BSAAfUsy"
      },
      "outputs": [],
      "source": [
        "from sklearn.feature_extraction.text import CountVectorizer"
      ]
    },
    {
      "cell_type": "code",
      "source": [
        "from wordcloud import WordCloud, STOPWORDS\n",
        "import spacy"
      ],
      "metadata": {
        "id": "gW1A6ulZy0TY"
      },
      "execution_count": 23,
      "outputs": []
    },
    {
      "cell_type": "code",
      "execution_count": 24,
      "metadata": {
        "id": "mINa_DZGfv3E"
      },
      "outputs": [],
      "source": [
        "cv = CountVectorizer()"
      ]
    },
    {
      "cell_type": "code",
      "source": [
        "nlp=spacy.load('el_core_news_sm')"
      ],
      "metadata": {
        "id": "LR9ecbBJyHF0"
      },
      "execution_count": 25,
      "outputs": []
    },
    {
      "cell_type": "code",
      "source": [
        "news_beast_articles_df = news_beast_articles_df.dropna()"
      ],
      "metadata": {
        "id": "wznJ9X22sWGV"
      },
      "execution_count": 26,
      "outputs": []
    },
    {
      "cell_type": "code",
      "execution_count": 27,
      "metadata": {
        "id": "8E1VGWWNfycT"
      },
      "outputs": [],
      "source": [
        "count_vector = cv.fit_transform(news_beast_articles_df['Article_content'])"
      ]
    },
    {
      "cell_type": "code",
      "source": [
        "count_vector.shape"
      ],
      "metadata": {
        "colab": {
          "base_uri": "https://localhost:8080/"
        },
        "id": "-etrbjVVIgTV",
        "outputId": "fdf6235b-5ebf-4c84-8b3a-564989c65459"
      },
      "execution_count": 28,
      "outputs": [
        {
          "output_type": "execute_result",
          "data": {
            "text/plain": [
              "(179, 12088)"
            ]
          },
          "metadata": {},
          "execution_count": 28
        }
      ]
    },
    {
      "cell_type": "code",
      "source": [
        "cv = CountVectorizer(stop_words= list(nlp.Defaults.stop_words))"
      ],
      "metadata": {
        "id": "0IcnDgSZt7Zd"
      },
      "execution_count": 29,
      "outputs": []
    },
    {
      "cell_type": "code",
      "source": [
        "count_vector = cv.fit_transform(news_beast_articles_df['Article_content'])"
      ],
      "metadata": {
        "id": "9i8tStwyJCJC"
      },
      "execution_count": 30,
      "outputs": []
    },
    {
      "cell_type": "code",
      "source": [
        "results = pd.DataFrame(count_vector.toarray(), columns=cv.get_feature_names_out())\n",
        "\n",
        "results.head()"
      ],
      "metadata": {
        "colab": {
          "base_uri": "https://localhost:8080/",
          "height": 235
        },
        "id": "AkuFKQ2hJNqU",
        "outputId": "deaaa896-8f06-4db2-84d0-5563c322933d"
      },
      "execution_count": 31,
      "outputs": [
        {
          "output_type": "execute_result",
          "data": {
            "text/plain": [
              "   00  000  0000  0020  01  02  03  030  032  04  ...  ύφος  ύψη  ύψιστης  \\\n",
              "0   0    0     0     0   0   1   0    0    1   0  ...     0    0        0   \n",
              "1   0    0     0     0   0   0   0    0    0   0  ...     0    0        0   \n",
              "2   1    0     0     0   0   0   0    0    0   0  ...     0    0        0   \n",
              "3   0    0     0     0   0   0   0    0    0   0  ...     0    0        0   \n",
              "4   0    0     0     0   0   0   0    0    0   0  ...     0    0        0   \n",
              "\n",
              "   ύψος  ύψους  ώρα  ώρες  𝐌𝐞𝐫𝐦𝐢𝐠𝐤𝐚𝐬  𝐓𝐳𝐢𝐭𝐳𝐢𝐤𝐚𝐬  𝔊𝔯𝔦𝔪𝔢𝔰  \n",
              "0     1      0    0     0          0          0       0  \n",
              "1     0      0    0     0          0          0       0  \n",
              "2     0      0    0     0          0          0       0  \n",
              "3     0      0    0     1          0          0       0  \n",
              "4     0      0    0     0          0          0       0  \n",
              "\n",
              "[5 rows x 11706 columns]"
            ],
            "text/html": [
              "\n",
              "  <div id=\"df-21c4d166-6573-435b-b30a-045f67908da5\">\n",
              "    <div class=\"colab-df-container\">\n",
              "      <div>\n",
              "<style scoped>\n",
              "    .dataframe tbody tr th:only-of-type {\n",
              "        vertical-align: middle;\n",
              "    }\n",
              "\n",
              "    .dataframe tbody tr th {\n",
              "        vertical-align: top;\n",
              "    }\n",
              "\n",
              "    .dataframe thead th {\n",
              "        text-align: right;\n",
              "    }\n",
              "</style>\n",
              "<table border=\"1\" class=\"dataframe\">\n",
              "  <thead>\n",
              "    <tr style=\"text-align: right;\">\n",
              "      <th></th>\n",
              "      <th>00</th>\n",
              "      <th>000</th>\n",
              "      <th>0000</th>\n",
              "      <th>0020</th>\n",
              "      <th>01</th>\n",
              "      <th>02</th>\n",
              "      <th>03</th>\n",
              "      <th>030</th>\n",
              "      <th>032</th>\n",
              "      <th>04</th>\n",
              "      <th>...</th>\n",
              "      <th>ύφος</th>\n",
              "      <th>ύψη</th>\n",
              "      <th>ύψιστης</th>\n",
              "      <th>ύψος</th>\n",
              "      <th>ύψους</th>\n",
              "      <th>ώρα</th>\n",
              "      <th>ώρες</th>\n",
              "      <th>𝐌𝐞𝐫𝐦𝐢𝐠𝐤𝐚𝐬</th>\n",
              "      <th>𝐓𝐳𝐢𝐭𝐳𝐢𝐤𝐚𝐬</th>\n",
              "      <th>𝔊𝔯𝔦𝔪𝔢𝔰</th>\n",
              "    </tr>\n",
              "  </thead>\n",
              "  <tbody>\n",
              "    <tr>\n",
              "      <th>0</th>\n",
              "      <td>0</td>\n",
              "      <td>0</td>\n",
              "      <td>0</td>\n",
              "      <td>0</td>\n",
              "      <td>0</td>\n",
              "      <td>1</td>\n",
              "      <td>0</td>\n",
              "      <td>0</td>\n",
              "      <td>1</td>\n",
              "      <td>0</td>\n",
              "      <td>...</td>\n",
              "      <td>0</td>\n",
              "      <td>0</td>\n",
              "      <td>0</td>\n",
              "      <td>1</td>\n",
              "      <td>0</td>\n",
              "      <td>0</td>\n",
              "      <td>0</td>\n",
              "      <td>0</td>\n",
              "      <td>0</td>\n",
              "      <td>0</td>\n",
              "    </tr>\n",
              "    <tr>\n",
              "      <th>1</th>\n",
              "      <td>0</td>\n",
              "      <td>0</td>\n",
              "      <td>0</td>\n",
              "      <td>0</td>\n",
              "      <td>0</td>\n",
              "      <td>0</td>\n",
              "      <td>0</td>\n",
              "      <td>0</td>\n",
              "      <td>0</td>\n",
              "      <td>0</td>\n",
              "      <td>...</td>\n",
              "      <td>0</td>\n",
              "      <td>0</td>\n",
              "      <td>0</td>\n",
              "      <td>0</td>\n",
              "      <td>0</td>\n",
              "      <td>0</td>\n",
              "      <td>0</td>\n",
              "      <td>0</td>\n",
              "      <td>0</td>\n",
              "      <td>0</td>\n",
              "    </tr>\n",
              "    <tr>\n",
              "      <th>2</th>\n",
              "      <td>1</td>\n",
              "      <td>0</td>\n",
              "      <td>0</td>\n",
              "      <td>0</td>\n",
              "      <td>0</td>\n",
              "      <td>0</td>\n",
              "      <td>0</td>\n",
              "      <td>0</td>\n",
              "      <td>0</td>\n",
              "      <td>0</td>\n",
              "      <td>...</td>\n",
              "      <td>0</td>\n",
              "      <td>0</td>\n",
              "      <td>0</td>\n",
              "      <td>0</td>\n",
              "      <td>0</td>\n",
              "      <td>0</td>\n",
              "      <td>0</td>\n",
              "      <td>0</td>\n",
              "      <td>0</td>\n",
              "      <td>0</td>\n",
              "    </tr>\n",
              "    <tr>\n",
              "      <th>3</th>\n",
              "      <td>0</td>\n",
              "      <td>0</td>\n",
              "      <td>0</td>\n",
              "      <td>0</td>\n",
              "      <td>0</td>\n",
              "      <td>0</td>\n",
              "      <td>0</td>\n",
              "      <td>0</td>\n",
              "      <td>0</td>\n",
              "      <td>0</td>\n",
              "      <td>...</td>\n",
              "      <td>0</td>\n",
              "      <td>0</td>\n",
              "      <td>0</td>\n",
              "      <td>0</td>\n",
              "      <td>0</td>\n",
              "      <td>0</td>\n",
              "      <td>1</td>\n",
              "      <td>0</td>\n",
              "      <td>0</td>\n",
              "      <td>0</td>\n",
              "    </tr>\n",
              "    <tr>\n",
              "      <th>4</th>\n",
              "      <td>0</td>\n",
              "      <td>0</td>\n",
              "      <td>0</td>\n",
              "      <td>0</td>\n",
              "      <td>0</td>\n",
              "      <td>0</td>\n",
              "      <td>0</td>\n",
              "      <td>0</td>\n",
              "      <td>0</td>\n",
              "      <td>0</td>\n",
              "      <td>...</td>\n",
              "      <td>0</td>\n",
              "      <td>0</td>\n",
              "      <td>0</td>\n",
              "      <td>0</td>\n",
              "      <td>0</td>\n",
              "      <td>0</td>\n",
              "      <td>0</td>\n",
              "      <td>0</td>\n",
              "      <td>0</td>\n",
              "      <td>0</td>\n",
              "    </tr>\n",
              "  </tbody>\n",
              "</table>\n",
              "<p>5 rows × 11706 columns</p>\n",
              "</div>\n",
              "      <button class=\"colab-df-convert\" onclick=\"convertToInteractive('df-21c4d166-6573-435b-b30a-045f67908da5')\"\n",
              "              title=\"Convert this dataframe to an interactive table.\"\n",
              "              style=\"display:none;\">\n",
              "        \n",
              "  <svg xmlns=\"http://www.w3.org/2000/svg\" height=\"24px\"viewBox=\"0 0 24 24\"\n",
              "       width=\"24px\">\n",
              "    <path d=\"M0 0h24v24H0V0z\" fill=\"none\"/>\n",
              "    <path d=\"M18.56 5.44l.94 2.06.94-2.06 2.06-.94-2.06-.94-.94-2.06-.94 2.06-2.06.94zm-11 1L8.5 8.5l.94-2.06 2.06-.94-2.06-.94L8.5 2.5l-.94 2.06-2.06.94zm10 10l.94 2.06.94-2.06 2.06-.94-2.06-.94-.94-2.06-.94 2.06-2.06.94z\"/><path d=\"M17.41 7.96l-1.37-1.37c-.4-.4-.92-.59-1.43-.59-.52 0-1.04.2-1.43.59L10.3 9.45l-7.72 7.72c-.78.78-.78 2.05 0 2.83L4 21.41c.39.39.9.59 1.41.59.51 0 1.02-.2 1.41-.59l7.78-7.78 2.81-2.81c.8-.78.8-2.07 0-2.86zM5.41 20L4 18.59l7.72-7.72 1.47 1.35L5.41 20z\"/>\n",
              "  </svg>\n",
              "      </button>\n",
              "      \n",
              "  <style>\n",
              "    .colab-df-container {\n",
              "      display:flex;\n",
              "      flex-wrap:wrap;\n",
              "      gap: 12px;\n",
              "    }\n",
              "\n",
              "    .colab-df-convert {\n",
              "      background-color: #E8F0FE;\n",
              "      border: none;\n",
              "      border-radius: 50%;\n",
              "      cursor: pointer;\n",
              "      display: none;\n",
              "      fill: #1967D2;\n",
              "      height: 32px;\n",
              "      padding: 0 0 0 0;\n",
              "      width: 32px;\n",
              "    }\n",
              "\n",
              "    .colab-df-convert:hover {\n",
              "      background-color: #E2EBFA;\n",
              "      box-shadow: 0px 1px 2px rgba(60, 64, 67, 0.3), 0px 1px 3px 1px rgba(60, 64, 67, 0.15);\n",
              "      fill: #174EA6;\n",
              "    }\n",
              "\n",
              "    [theme=dark] .colab-df-convert {\n",
              "      background-color: #3B4455;\n",
              "      fill: #D2E3FC;\n",
              "    }\n",
              "\n",
              "    [theme=dark] .colab-df-convert:hover {\n",
              "      background-color: #434B5C;\n",
              "      box-shadow: 0px 1px 3px 1px rgba(0, 0, 0, 0.15);\n",
              "      filter: drop-shadow(0px 1px 2px rgba(0, 0, 0, 0.3));\n",
              "      fill: #FFFFFF;\n",
              "    }\n",
              "  </style>\n",
              "\n",
              "      <script>\n",
              "        const buttonEl =\n",
              "          document.querySelector('#df-21c4d166-6573-435b-b30a-045f67908da5 button.colab-df-convert');\n",
              "        buttonEl.style.display =\n",
              "          google.colab.kernel.accessAllowed ? 'block' : 'none';\n",
              "\n",
              "        async function convertToInteractive(key) {\n",
              "          const element = document.querySelector('#df-21c4d166-6573-435b-b30a-045f67908da5');\n",
              "          const dataTable =\n",
              "            await google.colab.kernel.invokeFunction('convertToInteractive',\n",
              "                                                     [key], {});\n",
              "          if (!dataTable) return;\n",
              "\n",
              "          const docLinkHtml = 'Like what you see? Visit the ' +\n",
              "            '<a target=\"_blank\" href=https://colab.research.google.com/notebooks/data_table.ipynb>data table notebook</a>'\n",
              "            + ' to learn more about interactive tables.';\n",
              "          element.innerHTML = '';\n",
              "          dataTable['output_type'] = 'display_data';\n",
              "          await google.colab.output.renderOutput(dataTable, element);\n",
              "          const docLink = document.createElement('div');\n",
              "          docLink.innerHTML = docLinkHtml;\n",
              "          element.appendChild(docLink);\n",
              "        }\n",
              "      </script>\n",
              "    </div>\n",
              "  </div>\n",
              "  "
            ]
          },
          "metadata": {},
          "execution_count": 31
        }
      ]
    },
    {
      "cell_type": "code",
      "source": [
        "cv = CountVectorizer(stop_words= list(nlp.Defaults.stop_words), min_df=0.01, max_df=0.95)"
      ],
      "metadata": {
        "id": "q5VQ1vR2JWUP"
      },
      "execution_count": 32,
      "outputs": []
    },
    {
      "cell_type": "code",
      "source": [
        "count_vector = cv.fit_transform(news_beast_articles_df['Article_content'])"
      ],
      "metadata": {
        "id": "-WD3jXfqJeaH"
      },
      "execution_count": 33,
      "outputs": []
    },
    {
      "cell_type": "code",
      "source": [
        "results = pd.DataFrame(count_vector.toarray(), columns=cv.get_feature_names_out())\n",
        "\n",
        "results.head()"
      ],
      "metadata": {
        "id": "p1roCog0Jl4T"
      },
      "execution_count": null,
      "outputs": []
    },
    {
      "cell_type": "code",
      "source": [
        "cv = CountVectorizer( stop_words= list(nlp.Defaults.stop_words), max_features=20)\n",
        "count_vector = cv.fit_transform(news_beast_articles_df['Article_content'])\n",
        "results = pd.DataFrame(count_vector.toarray(), columns=cv.get_feature_names_out())\n",
        "results.head()\n",
        ""
      ],
      "metadata": {
        "id": "zVgjRL6LJnPi"
      },
      "execution_count": null,
      "outputs": []
    },
    {
      "cell_type": "code",
      "source": [
        "\n",
        "cv = CountVectorizer( stop_words= list(nlp.Defaults.stop_words), max_features=20, ngram_range=(2, 2))\n",
        "count_vector = cv.fit_transform(news_beast_articles_df['Article_content'])\n",
        "results = pd.DataFrame(count_vector.toarray(), columns=cv.get_feature_names_out())\n",
        "results.head()"
      ],
      "metadata": {
        "colab": {
          "base_uri": "https://localhost:8080/",
          "height": 287
        },
        "id": "Cfz8-XvTJ8pf",
        "outputId": "1b596d70-15c6-4528-bbb0-244cad36c1e8"
      },
      "execution_count": 36,
      "outputs": [
        {
          "output_type": "execute_result",
          "data": {
            "text/plain": [
              "   13 2023  https co  instagram post  june 13  on instagram  pic twitter  \\\n",
              "0        0         0               0        0             0            0   \n",
              "1        0         0               0        0             0            0   \n",
              "2        0         0               0        0             0            0   \n",
              "3        0         0               0        0             0            0   \n",
              "4        0         0               0        0             0            0   \n",
              "\n",
              "   post on  post shared  shared by  this post  twitter com  view this  \\\n",
              "0        0            0          0          0            0          0   \n",
              "1        0            0          0          0            0          0   \n",
              "2        0            0          0          0            0          0   \n",
              "3        0            0          0          0            0          0   \n",
              "4        0            0          0          0            0          0   \n",
              "\n",
              "   απογευματινές ώρες  λοίμωξη στρεπτόκοκκο  μποφόρ θερμοκρασία  \\\n",
              "0                   0                     0                   0   \n",
              "1                   0                     0                   0   \n",
              "2                   0                     0                   0   \n",
              "3                   0                     0                   0   \n",
              "4                   0                     4                   0   \n",
              "\n",
              "   νέα δημοκρατία  νέας δημοκρατίας  στρεπτόκοκκο ομάδας  \\\n",
              "0               0                 0                    0   \n",
              "1               0                 0                    0   \n",
              "2               0                 0                    0   \n",
              "3               0                 0                    0   \n",
              "4               0                 0                   10   \n",
              "\n",
              "   στρεπτόκοκκος ομάδας  τοπικές βροχές  \n",
              "0                     0               0  \n",
              "1                     0               0  \n",
              "2                     0               0  \n",
              "3                     0               0  \n",
              "4                     6               0  "
            ],
            "text/html": [
              "\n",
              "  <div id=\"df-f913f79b-007f-48c1-af65-7be9da702d0e\">\n",
              "    <div class=\"colab-df-container\">\n",
              "      <div>\n",
              "<style scoped>\n",
              "    .dataframe tbody tr th:only-of-type {\n",
              "        vertical-align: middle;\n",
              "    }\n",
              "\n",
              "    .dataframe tbody tr th {\n",
              "        vertical-align: top;\n",
              "    }\n",
              "\n",
              "    .dataframe thead th {\n",
              "        text-align: right;\n",
              "    }\n",
              "</style>\n",
              "<table border=\"1\" class=\"dataframe\">\n",
              "  <thead>\n",
              "    <tr style=\"text-align: right;\">\n",
              "      <th></th>\n",
              "      <th>13 2023</th>\n",
              "      <th>https co</th>\n",
              "      <th>instagram post</th>\n",
              "      <th>june 13</th>\n",
              "      <th>on instagram</th>\n",
              "      <th>pic twitter</th>\n",
              "      <th>post on</th>\n",
              "      <th>post shared</th>\n",
              "      <th>shared by</th>\n",
              "      <th>this post</th>\n",
              "      <th>twitter com</th>\n",
              "      <th>view this</th>\n",
              "      <th>απογευματινές ώρες</th>\n",
              "      <th>λοίμωξη στρεπτόκοκκο</th>\n",
              "      <th>μποφόρ θερμοκρασία</th>\n",
              "      <th>νέα δημοκρατία</th>\n",
              "      <th>νέας δημοκρατίας</th>\n",
              "      <th>στρεπτόκοκκο ομάδας</th>\n",
              "      <th>στρεπτόκοκκος ομάδας</th>\n",
              "      <th>τοπικές βροχές</th>\n",
              "    </tr>\n",
              "  </thead>\n",
              "  <tbody>\n",
              "    <tr>\n",
              "      <th>0</th>\n",
              "      <td>0</td>\n",
              "      <td>0</td>\n",
              "      <td>0</td>\n",
              "      <td>0</td>\n",
              "      <td>0</td>\n",
              "      <td>0</td>\n",
              "      <td>0</td>\n",
              "      <td>0</td>\n",
              "      <td>0</td>\n",
              "      <td>0</td>\n",
              "      <td>0</td>\n",
              "      <td>0</td>\n",
              "      <td>0</td>\n",
              "      <td>0</td>\n",
              "      <td>0</td>\n",
              "      <td>0</td>\n",
              "      <td>0</td>\n",
              "      <td>0</td>\n",
              "      <td>0</td>\n",
              "      <td>0</td>\n",
              "    </tr>\n",
              "    <tr>\n",
              "      <th>1</th>\n",
              "      <td>0</td>\n",
              "      <td>0</td>\n",
              "      <td>0</td>\n",
              "      <td>0</td>\n",
              "      <td>0</td>\n",
              "      <td>0</td>\n",
              "      <td>0</td>\n",
              "      <td>0</td>\n",
              "      <td>0</td>\n",
              "      <td>0</td>\n",
              "      <td>0</td>\n",
              "      <td>0</td>\n",
              "      <td>0</td>\n",
              "      <td>0</td>\n",
              "      <td>0</td>\n",
              "      <td>0</td>\n",
              "      <td>0</td>\n",
              "      <td>0</td>\n",
              "      <td>0</td>\n",
              "      <td>0</td>\n",
              "    </tr>\n",
              "    <tr>\n",
              "      <th>2</th>\n",
              "      <td>0</td>\n",
              "      <td>0</td>\n",
              "      <td>0</td>\n",
              "      <td>0</td>\n",
              "      <td>0</td>\n",
              "      <td>0</td>\n",
              "      <td>0</td>\n",
              "      <td>0</td>\n",
              "      <td>0</td>\n",
              "      <td>0</td>\n",
              "      <td>0</td>\n",
              "      <td>0</td>\n",
              "      <td>0</td>\n",
              "      <td>0</td>\n",
              "      <td>0</td>\n",
              "      <td>0</td>\n",
              "      <td>0</td>\n",
              "      <td>0</td>\n",
              "      <td>0</td>\n",
              "      <td>0</td>\n",
              "    </tr>\n",
              "    <tr>\n",
              "      <th>3</th>\n",
              "      <td>0</td>\n",
              "      <td>0</td>\n",
              "      <td>0</td>\n",
              "      <td>0</td>\n",
              "      <td>0</td>\n",
              "      <td>0</td>\n",
              "      <td>0</td>\n",
              "      <td>0</td>\n",
              "      <td>0</td>\n",
              "      <td>0</td>\n",
              "      <td>0</td>\n",
              "      <td>0</td>\n",
              "      <td>0</td>\n",
              "      <td>0</td>\n",
              "      <td>0</td>\n",
              "      <td>0</td>\n",
              "      <td>0</td>\n",
              "      <td>0</td>\n",
              "      <td>0</td>\n",
              "      <td>0</td>\n",
              "    </tr>\n",
              "    <tr>\n",
              "      <th>4</th>\n",
              "      <td>0</td>\n",
              "      <td>0</td>\n",
              "      <td>0</td>\n",
              "      <td>0</td>\n",
              "      <td>0</td>\n",
              "      <td>0</td>\n",
              "      <td>0</td>\n",
              "      <td>0</td>\n",
              "      <td>0</td>\n",
              "      <td>0</td>\n",
              "      <td>0</td>\n",
              "      <td>0</td>\n",
              "      <td>0</td>\n",
              "      <td>4</td>\n",
              "      <td>0</td>\n",
              "      <td>0</td>\n",
              "      <td>0</td>\n",
              "      <td>10</td>\n",
              "      <td>6</td>\n",
              "      <td>0</td>\n",
              "    </tr>\n",
              "  </tbody>\n",
              "</table>\n",
              "</div>\n",
              "      <button class=\"colab-df-convert\" onclick=\"convertToInteractive('df-f913f79b-007f-48c1-af65-7be9da702d0e')\"\n",
              "              title=\"Convert this dataframe to an interactive table.\"\n",
              "              style=\"display:none;\">\n",
              "        \n",
              "  <svg xmlns=\"http://www.w3.org/2000/svg\" height=\"24px\"viewBox=\"0 0 24 24\"\n",
              "       width=\"24px\">\n",
              "    <path d=\"M0 0h24v24H0V0z\" fill=\"none\"/>\n",
              "    <path d=\"M18.56 5.44l.94 2.06.94-2.06 2.06-.94-2.06-.94-.94-2.06-.94 2.06-2.06.94zm-11 1L8.5 8.5l.94-2.06 2.06-.94-2.06-.94L8.5 2.5l-.94 2.06-2.06.94zm10 10l.94 2.06.94-2.06 2.06-.94-2.06-.94-.94-2.06-.94 2.06-2.06.94z\"/><path d=\"M17.41 7.96l-1.37-1.37c-.4-.4-.92-.59-1.43-.59-.52 0-1.04.2-1.43.59L10.3 9.45l-7.72 7.72c-.78.78-.78 2.05 0 2.83L4 21.41c.39.39.9.59 1.41.59.51 0 1.02-.2 1.41-.59l7.78-7.78 2.81-2.81c.8-.78.8-2.07 0-2.86zM5.41 20L4 18.59l7.72-7.72 1.47 1.35L5.41 20z\"/>\n",
              "  </svg>\n",
              "      </button>\n",
              "      \n",
              "  <style>\n",
              "    .colab-df-container {\n",
              "      display:flex;\n",
              "      flex-wrap:wrap;\n",
              "      gap: 12px;\n",
              "    }\n",
              "\n",
              "    .colab-df-convert {\n",
              "      background-color: #E8F0FE;\n",
              "      border: none;\n",
              "      border-radius: 50%;\n",
              "      cursor: pointer;\n",
              "      display: none;\n",
              "      fill: #1967D2;\n",
              "      height: 32px;\n",
              "      padding: 0 0 0 0;\n",
              "      width: 32px;\n",
              "    }\n",
              "\n",
              "    .colab-df-convert:hover {\n",
              "      background-color: #E2EBFA;\n",
              "      box-shadow: 0px 1px 2px rgba(60, 64, 67, 0.3), 0px 1px 3px 1px rgba(60, 64, 67, 0.15);\n",
              "      fill: #174EA6;\n",
              "    }\n",
              "\n",
              "    [theme=dark] .colab-df-convert {\n",
              "      background-color: #3B4455;\n",
              "      fill: #D2E3FC;\n",
              "    }\n",
              "\n",
              "    [theme=dark] .colab-df-convert:hover {\n",
              "      background-color: #434B5C;\n",
              "      box-shadow: 0px 1px 3px 1px rgba(0, 0, 0, 0.15);\n",
              "      filter: drop-shadow(0px 1px 2px rgba(0, 0, 0, 0.3));\n",
              "      fill: #FFFFFF;\n",
              "    }\n",
              "  </style>\n",
              "\n",
              "      <script>\n",
              "        const buttonEl =\n",
              "          document.querySelector('#df-f913f79b-007f-48c1-af65-7be9da702d0e button.colab-df-convert');\n",
              "        buttonEl.style.display =\n",
              "          google.colab.kernel.accessAllowed ? 'block' : 'none';\n",
              "\n",
              "        async function convertToInteractive(key) {\n",
              "          const element = document.querySelector('#df-f913f79b-007f-48c1-af65-7be9da702d0e');\n",
              "          const dataTable =\n",
              "            await google.colab.kernel.invokeFunction('convertToInteractive',\n",
              "                                                     [key], {});\n",
              "          if (!dataTable) return;\n",
              "\n",
              "          const docLinkHtml = 'Like what you see? Visit the ' +\n",
              "            '<a target=\"_blank\" href=https://colab.research.google.com/notebooks/data_table.ipynb>data table notebook</a>'\n",
              "            + ' to learn more about interactive tables.';\n",
              "          element.innerHTML = '';\n",
              "          dataTable['output_type'] = 'display_data';\n",
              "          await google.colab.output.renderOutput(dataTable, element);\n",
              "          const docLink = document.createElement('div');\n",
              "          docLink.innerHTML = docLinkHtml;\n",
              "          element.appendChild(docLink);\n",
              "        }\n",
              "      </script>\n",
              "    </div>\n",
              "  </div>\n",
              "  "
            ]
          },
          "metadata": {},
          "execution_count": 36
        }
      ]
    },
    {
      "cell_type": "code",
      "execution_count": null,
      "metadata": {
        "id": "udor6V3RkY3u"
      },
      "outputs": [],
      "source": [
        "results.sum(axis =0).sort_values(ascending = False)"
      ]
    },
    {
      "cell_type": "code",
      "source": [
        "sum_words =  results.sum(axis =0)\n",
        "sum_words.sort_values(ascending = False).head()\n",
        ""
      ],
      "metadata": {
        "colab": {
          "base_uri": "https://localhost:8080/"
        },
        "id": "4xCOpCR2KSLa",
        "outputId": "e2f5339e-5f13-4d18-f012-b655bc8a3548"
      },
      "execution_count": 38,
      "outputs": [
        {
          "output_type": "execute_result",
          "data": {
            "text/plain": [
              "στρεπτόκοκκο ομάδας     39\n",
              "στρεπτόκοκκος ομάδας    24\n",
              "νέα δημοκρατία          18\n",
              "λοίμωξη στρεπτόκοκκο    16\n",
              "13 2023                 14\n",
              "dtype: int64"
            ]
          },
          "metadata": {},
          "execution_count": 38
        }
      ]
    },
    {
      "cell_type": "code",
      "source": [
        "from sklearn.feature_extraction.text import TfidfVectorizer"
      ],
      "metadata": {
        "id": "Po7K1xZ0Kf2Y"
      },
      "execution_count": 39,
      "outputs": []
    },
    {
      "cell_type": "code",
      "source": [
        "tfidf_vectorizer = TfidfVectorizer(stop_words= list(nlp.Defaults.stop_words), max_features=500)\n",
        "tfidf_matrix_train = tfidf_vectorizer.fit_transform(news_beast_articles_df['Article_content'])"
      ],
      "metadata": {
        "id": "7ZibZ7NKMoUf"
      },
      "execution_count": 40,
      "outputs": []
    },
    {
      "cell_type": "code",
      "source": [
        "results = pd.DataFrame(tfidf_matrix_train.toarray(), columns=tfidf_vectorizer.get_feature_names_out())\n",
        "results.head()\n",
        ""
      ],
      "metadata": {
        "colab": {
          "base_uri": "https://localhost:8080/",
          "height": 299
        },
        "id": "rGRUMp4tM0F0",
        "outputId": "4cf03aca-b5a0-4e22-e3fa-f792375a851c"
      },
      "execution_count": 41,
      "outputs": [
        {
          "output_type": "execute_result",
          "data": {
            "text/plain": [
              "         00  000   06        10  100   11        12        13        14   15  \\\n",
              "0  0.000000  0.0  0.0  0.000000  0.0  0.0  0.069391  0.064859  0.238406  0.0   \n",
              "1  0.000000  0.0  0.0  0.000000  0.0  0.0  0.000000  0.000000  0.000000  0.0   \n",
              "2  0.182602  0.0  0.0  0.000000  0.0  0.0  0.000000  0.000000  0.153836  0.0   \n",
              "3  0.000000  0.0  0.0  0.000000  0.0  0.0  0.000000  0.000000  0.000000  0.0   \n",
              "4  0.000000  0.0  0.0  0.044212  0.0  0.0  0.000000  0.000000  0.000000  0.0   \n",
              "\n",
              "   ...    χρόνια  χρόνο    χρόνου  χώρα  χώρας     χώρες  χώρο  όμπερχολτζερ  \\\n",
              "0  ...  0.000000    0.0  0.000000   0.0    0.0  0.000000   0.0           0.0   \n",
              "1  ...  0.000000    0.0  0.000000   0.0    0.0  0.185148   0.0           0.0   \n",
              "2  ...  0.000000    0.0  0.197924   0.0    0.0  0.000000   0.0           0.0   \n",
              "3  ...  0.090329    0.0  0.000000   0.0    0.0  0.000000   0.0           0.0   \n",
              "4  ...  0.018546    0.0  0.000000   0.0    0.0  0.060322   0.0           0.0   \n",
              "\n",
              "   ώρα      ώρες  \n",
              "0  0.0  0.000000  \n",
              "1  0.0  0.000000  \n",
              "2  0.0  0.000000  \n",
              "3  0.0  0.124453  \n",
              "4  0.0  0.000000  \n",
              "\n",
              "[5 rows x 500 columns]"
            ],
            "text/html": [
              "\n",
              "  <div id=\"df-bd2c9e45-74d5-4f5d-96af-63e5ee5df500\">\n",
              "    <div class=\"colab-df-container\">\n",
              "      <div>\n",
              "<style scoped>\n",
              "    .dataframe tbody tr th:only-of-type {\n",
              "        vertical-align: middle;\n",
              "    }\n",
              "\n",
              "    .dataframe tbody tr th {\n",
              "        vertical-align: top;\n",
              "    }\n",
              "\n",
              "    .dataframe thead th {\n",
              "        text-align: right;\n",
              "    }\n",
              "</style>\n",
              "<table border=\"1\" class=\"dataframe\">\n",
              "  <thead>\n",
              "    <tr style=\"text-align: right;\">\n",
              "      <th></th>\n",
              "      <th>00</th>\n",
              "      <th>000</th>\n",
              "      <th>06</th>\n",
              "      <th>10</th>\n",
              "      <th>100</th>\n",
              "      <th>11</th>\n",
              "      <th>12</th>\n",
              "      <th>13</th>\n",
              "      <th>14</th>\n",
              "      <th>15</th>\n",
              "      <th>...</th>\n",
              "      <th>χρόνια</th>\n",
              "      <th>χρόνο</th>\n",
              "      <th>χρόνου</th>\n",
              "      <th>χώρα</th>\n",
              "      <th>χώρας</th>\n",
              "      <th>χώρες</th>\n",
              "      <th>χώρο</th>\n",
              "      <th>όμπερχολτζερ</th>\n",
              "      <th>ώρα</th>\n",
              "      <th>ώρες</th>\n",
              "    </tr>\n",
              "  </thead>\n",
              "  <tbody>\n",
              "    <tr>\n",
              "      <th>0</th>\n",
              "      <td>0.000000</td>\n",
              "      <td>0.0</td>\n",
              "      <td>0.0</td>\n",
              "      <td>0.000000</td>\n",
              "      <td>0.0</td>\n",
              "      <td>0.0</td>\n",
              "      <td>0.069391</td>\n",
              "      <td>0.064859</td>\n",
              "      <td>0.238406</td>\n",
              "      <td>0.0</td>\n",
              "      <td>...</td>\n",
              "      <td>0.000000</td>\n",
              "      <td>0.0</td>\n",
              "      <td>0.000000</td>\n",
              "      <td>0.0</td>\n",
              "      <td>0.0</td>\n",
              "      <td>0.000000</td>\n",
              "      <td>0.0</td>\n",
              "      <td>0.0</td>\n",
              "      <td>0.0</td>\n",
              "      <td>0.000000</td>\n",
              "    </tr>\n",
              "    <tr>\n",
              "      <th>1</th>\n",
              "      <td>0.000000</td>\n",
              "      <td>0.0</td>\n",
              "      <td>0.0</td>\n",
              "      <td>0.000000</td>\n",
              "      <td>0.0</td>\n",
              "      <td>0.0</td>\n",
              "      <td>0.000000</td>\n",
              "      <td>0.000000</td>\n",
              "      <td>0.000000</td>\n",
              "      <td>0.0</td>\n",
              "      <td>...</td>\n",
              "      <td>0.000000</td>\n",
              "      <td>0.0</td>\n",
              "      <td>0.000000</td>\n",
              "      <td>0.0</td>\n",
              "      <td>0.0</td>\n",
              "      <td>0.185148</td>\n",
              "      <td>0.0</td>\n",
              "      <td>0.0</td>\n",
              "      <td>0.0</td>\n",
              "      <td>0.000000</td>\n",
              "    </tr>\n",
              "    <tr>\n",
              "      <th>2</th>\n",
              "      <td>0.182602</td>\n",
              "      <td>0.0</td>\n",
              "      <td>0.0</td>\n",
              "      <td>0.000000</td>\n",
              "      <td>0.0</td>\n",
              "      <td>0.0</td>\n",
              "      <td>0.000000</td>\n",
              "      <td>0.000000</td>\n",
              "      <td>0.153836</td>\n",
              "      <td>0.0</td>\n",
              "      <td>...</td>\n",
              "      <td>0.000000</td>\n",
              "      <td>0.0</td>\n",
              "      <td>0.197924</td>\n",
              "      <td>0.0</td>\n",
              "      <td>0.0</td>\n",
              "      <td>0.000000</td>\n",
              "      <td>0.0</td>\n",
              "      <td>0.0</td>\n",
              "      <td>0.0</td>\n",
              "      <td>0.000000</td>\n",
              "    </tr>\n",
              "    <tr>\n",
              "      <th>3</th>\n",
              "      <td>0.000000</td>\n",
              "      <td>0.0</td>\n",
              "      <td>0.0</td>\n",
              "      <td>0.000000</td>\n",
              "      <td>0.0</td>\n",
              "      <td>0.0</td>\n",
              "      <td>0.000000</td>\n",
              "      <td>0.000000</td>\n",
              "      <td>0.000000</td>\n",
              "      <td>0.0</td>\n",
              "      <td>...</td>\n",
              "      <td>0.090329</td>\n",
              "      <td>0.0</td>\n",
              "      <td>0.000000</td>\n",
              "      <td>0.0</td>\n",
              "      <td>0.0</td>\n",
              "      <td>0.000000</td>\n",
              "      <td>0.0</td>\n",
              "      <td>0.0</td>\n",
              "      <td>0.0</td>\n",
              "      <td>0.124453</td>\n",
              "    </tr>\n",
              "    <tr>\n",
              "      <th>4</th>\n",
              "      <td>0.000000</td>\n",
              "      <td>0.0</td>\n",
              "      <td>0.0</td>\n",
              "      <td>0.044212</td>\n",
              "      <td>0.0</td>\n",
              "      <td>0.0</td>\n",
              "      <td>0.000000</td>\n",
              "      <td>0.000000</td>\n",
              "      <td>0.000000</td>\n",
              "      <td>0.0</td>\n",
              "      <td>...</td>\n",
              "      <td>0.018546</td>\n",
              "      <td>0.0</td>\n",
              "      <td>0.000000</td>\n",
              "      <td>0.0</td>\n",
              "      <td>0.0</td>\n",
              "      <td>0.060322</td>\n",
              "      <td>0.0</td>\n",
              "      <td>0.0</td>\n",
              "      <td>0.0</td>\n",
              "      <td>0.000000</td>\n",
              "    </tr>\n",
              "  </tbody>\n",
              "</table>\n",
              "<p>5 rows × 500 columns</p>\n",
              "</div>\n",
              "      <button class=\"colab-df-convert\" onclick=\"convertToInteractive('df-bd2c9e45-74d5-4f5d-96af-63e5ee5df500')\"\n",
              "              title=\"Convert this dataframe to an interactive table.\"\n",
              "              style=\"display:none;\">\n",
              "        \n",
              "  <svg xmlns=\"http://www.w3.org/2000/svg\" height=\"24px\"viewBox=\"0 0 24 24\"\n",
              "       width=\"24px\">\n",
              "    <path d=\"M0 0h24v24H0V0z\" fill=\"none\"/>\n",
              "    <path d=\"M18.56 5.44l.94 2.06.94-2.06 2.06-.94-2.06-.94-.94-2.06-.94 2.06-2.06.94zm-11 1L8.5 8.5l.94-2.06 2.06-.94-2.06-.94L8.5 2.5l-.94 2.06-2.06.94zm10 10l.94 2.06.94-2.06 2.06-.94-2.06-.94-.94-2.06-.94 2.06-2.06.94z\"/><path d=\"M17.41 7.96l-1.37-1.37c-.4-.4-.92-.59-1.43-.59-.52 0-1.04.2-1.43.59L10.3 9.45l-7.72 7.72c-.78.78-.78 2.05 0 2.83L4 21.41c.39.39.9.59 1.41.59.51 0 1.02-.2 1.41-.59l7.78-7.78 2.81-2.81c.8-.78.8-2.07 0-2.86zM5.41 20L4 18.59l7.72-7.72 1.47 1.35L5.41 20z\"/>\n",
              "  </svg>\n",
              "      </button>\n",
              "      \n",
              "  <style>\n",
              "    .colab-df-container {\n",
              "      display:flex;\n",
              "      flex-wrap:wrap;\n",
              "      gap: 12px;\n",
              "    }\n",
              "\n",
              "    .colab-df-convert {\n",
              "      background-color: #E8F0FE;\n",
              "      border: none;\n",
              "      border-radius: 50%;\n",
              "      cursor: pointer;\n",
              "      display: none;\n",
              "      fill: #1967D2;\n",
              "      height: 32px;\n",
              "      padding: 0 0 0 0;\n",
              "      width: 32px;\n",
              "    }\n",
              "\n",
              "    .colab-df-convert:hover {\n",
              "      background-color: #E2EBFA;\n",
              "      box-shadow: 0px 1px 2px rgba(60, 64, 67, 0.3), 0px 1px 3px 1px rgba(60, 64, 67, 0.15);\n",
              "      fill: #174EA6;\n",
              "    }\n",
              "\n",
              "    [theme=dark] .colab-df-convert {\n",
              "      background-color: #3B4455;\n",
              "      fill: #D2E3FC;\n",
              "    }\n",
              "\n",
              "    [theme=dark] .colab-df-convert:hover {\n",
              "      background-color: #434B5C;\n",
              "      box-shadow: 0px 1px 3px 1px rgba(0, 0, 0, 0.15);\n",
              "      filter: drop-shadow(0px 1px 2px rgba(0, 0, 0, 0.3));\n",
              "      fill: #FFFFFF;\n",
              "    }\n",
              "  </style>\n",
              "\n",
              "      <script>\n",
              "        const buttonEl =\n",
              "          document.querySelector('#df-bd2c9e45-74d5-4f5d-96af-63e5ee5df500 button.colab-df-convert');\n",
              "        buttonEl.style.display =\n",
              "          google.colab.kernel.accessAllowed ? 'block' : 'none';\n",
              "\n",
              "        async function convertToInteractive(key) {\n",
              "          const element = document.querySelector('#df-bd2c9e45-74d5-4f5d-96af-63e5ee5df500');\n",
              "          const dataTable =\n",
              "            await google.colab.kernel.invokeFunction('convertToInteractive',\n",
              "                                                     [key], {});\n",
              "          if (!dataTable) return;\n",
              "\n",
              "          const docLinkHtml = 'Like what you see? Visit the ' +\n",
              "            '<a target=\"_blank\" href=https://colab.research.google.com/notebooks/data_table.ipynb>data table notebook</a>'\n",
              "            + ' to learn more about interactive tables.';\n",
              "          element.innerHTML = '';\n",
              "          dataTable['output_type'] = 'display_data';\n",
              "          await google.colab.output.renderOutput(dataTable, element);\n",
              "          const docLink = document.createElement('div');\n",
              "          docLink.innerHTML = docLinkHtml;\n",
              "          element.appendChild(docLink);\n",
              "        }\n",
              "      </script>\n",
              "    </div>\n",
              "  </div>\n",
              "  "
            ]
          },
          "metadata": {},
          "execution_count": 41
        }
      ]
    },
    {
      "cell_type": "code",
      "source": [
        "from sklearn.metrics.pairwise import cosine_similarity\n",
        "\n",
        "print(\"cosine scores ==> \",cosine_similarity(tfidf_matrix_train[0:1], tfidf_matrix_train))"
      ],
      "metadata": {
        "id": "gFHhbbLCM2_0"
      },
      "execution_count": null,
      "outputs": []
    },
    {
      "cell_type": "code",
      "source": [
        "arr = cosine_similarity(tfidf_matrix_train, tfidf_matrix_train)"
      ],
      "metadata": {
        "id": "U-6XESQBM81P"
      },
      "execution_count": 43,
      "outputs": []
    },
    {
      "cell_type": "code",
      "source": [
        "pd.DataFrame(arr).loc[3].sort_values(ascending = False).head(20).plot(kind = 'bar')"
      ],
      "metadata": {
        "colab": {
          "base_uri": "https://localhost:8080/",
          "height": 459
        },
        "id": "Cj_YC_DeM_xR",
        "outputId": "557ca702-c900-4701-84e4-b995f894f10a"
      },
      "execution_count": 44,
      "outputs": [
        {
          "output_type": "execute_result",
          "data": {
            "text/plain": [
              "<Axes: >"
            ]
          },
          "metadata": {},
          "execution_count": 44
        },
        {
          "output_type": "display_data",
          "data": {
            "text/plain": [
              "<Figure size 640x480 with 1 Axes>"
            ],
            "image/png": "[encoded data removed]"
          },
          "metadata": {}
        }
      ]
    },
    {
      "cell_type": "code",
      "source": [
        "news_beast_articles_df['Article_content'].loc[3]"
      ],
      "metadata": {
        "colab": {
          "base_uri": "https://localhost:8080/",
          "height": 157
        },
        "id": "p4-FJzimNBag",
        "outputId": "44067e86-8755-4b06-8e0a-0603541a60bd"
      },
      "execution_count": 45,
      "outputs": [
        {
          "output_type": "execute_result",
          "data": {
            "text/plain": [
              "'\\nΣάλος έχει ξεσπάσει στη «Πλεύση Ελευθερίας» μετά τις αναφορές ότι η Ζωή Κωνσταντοπούλου κόβει υποψηφίους για να βάλει σε εκλόγιμες θέσεις στενά της πρόσωπα και αρκετοί αναρωτιούνται για τον ηθοποιό σύντροφο της, που έγινε γνωστός στο ευρύ κοινό από τη σειρά «Κωνσταντίνου και Ελένης».\\nΣυγκεκριμένα, τοποθέτησε σε εκλόγιμη θέση τον Διαμαντή Καραναστάση, τη στιγμή που δεν συμμετείχε στις εκλογές της 21ης Μαΐου, ενώ στις κάλπες του 2019 είχε πάρει μεν μέρος με την παράταξη της συντρόφου του, αλλά είχε απογοητεύσει με την επίδοση του.\\nΣύμφωνα με την εκπομπή «Live News», ο σύντροφος της Ζωής Κωνσταντοπούλου γεννήθηκε στη Λάρισα και έχει αποκτήσει δύο παιδιά. Είναι ηθοποιός του θεάτρου και της τηλεόρασης, ωστόσο στο ευρύ κοινό έγινε γνωστός από τη σειρά «Κωνσταντίνου και Ελένης», ενώ μετά συμμετείχε και στο «Λίφτινγκ»\\n«Και για μένα είναι τόσο περίεργο να έχω κάνει τόσα πράγματα και στο θέατρο και σε όλα αυτά, και να λένε “ο γιατρός από το Κωνσταντίνου και Ελένη”», έχει πει χαρακτηριστικά.\\nΠώς γνωρίστηκαν\\nΤο ρεπορτάζ της εκπομπής του Mega που παρουσιάζει ο Νίκος Ευαγγελάτος αναφέρει ότι η ιδέα για τη «Πλεύση Ελευθερίας» γεννήθηκε το 2016, όταν η Ζωή Κωνσταντοπούλου συνάντησε τον Διαμαντή Καραναστάση στο φουαγιέ του Θεάτρου Τέχνης και συζήτησαν παραπάνω από τέσσερις ώρες.\\n«Εγώ της έστειλα mail. Της λέω κοίτα το mail σου και ξεκινούσαμε και συζητούσαμε», είχε πει χαρακτηριστικά ο Διαμαντής Καραναστάσης.\\nΈκτοτε, οι δύο τους έγιναν αχώριστοι, ενώ το 2019 ο ηθοποιός «έτρεξε» μόνος του όλη την προεκλογική καμπάνια της «Πλεύσης», ενώ έθεσε και την υποψηφιότητά του στην Α’ Αθηνών.\\nΤέσσερα χρόνια μετά, βρίσκεται και πάλι υποψήφιος στην Α’ Αθηνών, συντονιστής της καμπάνιας του κόμματος, όμως η υποψηφιότητα του έχει προκαλέσει τριγμούς στα μέλη της παράταξης.\\n\\n'"
            ],
            "application/vnd.google.colaboratory.intrinsic+json": {
              "type": "string"
            }
          },
          "metadata": {},
          "execution_count": 45
        }
      ]
    },
    {
      "cell_type": "code",
      "source": [
        "import seaborn as sns"
      ],
      "metadata": {
        "id": "Kldjb9CJOMFk"
      },
      "execution_count": 46,
      "outputs": []
    },
    {
      "cell_type": "code",
      "source": [
        "arr = cosine_similarity(tfidf_matrix_train[0:10], tfidf_matrix_train[0:10])"
      ],
      "metadata": {
        "id": "6itvMlVlNLCF"
      },
      "execution_count": 47,
      "outputs": []
    },
    {
      "cell_type": "code",
      "source": [
        "\n",
        "plt.figure(figsize=(10, 10))\n",
        "#annot = True to print the values inside the square\n",
        "plt.title('Βαθμός ομοιότητας των 10 πρώτων άρθρων', y=1.02, fontweight='bold') # το y ορίζει την απόσταση του τίτλου από το γράφημα\n",
        "sns.heatmap(data=arr, annot=True, vmin=0.05, vmax=0.98, cmap=\"PiYG\")\n"
      ],
      "metadata": {
        "colab": {
          "base_uri": "https://localhost:8080/",
          "height": 885
        },
        "id": "SyimzVEYNgFY",
        "outputId": "eee2f0dd-e6fa-41f3-a00f-daff895e53d1"
      },
      "execution_count": 48,
      "outputs": [
        {
          "output_type": "execute_result",
          "data": {
            "text/plain": [
              "<Axes: title={'center': 'Βαθμός ομοιότητας των 10 πρώτων άρθρων'}>"
            ]
          },
          "metadata": {},
          "execution_count": 48
        },
        {
          "output_type": "display_data",
          "data": {
            "text/plain": [
              "<Figure size 1000x1000 with 2 Axes>"
            ],
            "image/png": "[encoded data removed]"
          },
          "metadata": {}
        }
      ]
    },
    {
      "cell_type": "code",
      "source": [
        "from google.colab import drive\n",
        "drive.mount('/content/drive')"
      ],
      "metadata": {
        "colab": {
          "base_uri": "https://localhost:8080/"
        },
        "id": "pH3tRBYJOz_p",
        "outputId": "f5eaa8c3-bada-45af-acc1-aec4c56e52c2"
      },
      "execution_count": 56,
      "outputs": [
        {
          "output_type": "stream",
          "name": "stdout",
          "text": [
            "Drive already mounted at /content/drive; to attempt to forcibly remount, call drive.mount(\"/content/drive\", force_remount=True).\n"
          ]
        }
      ]
    },
    {
      "cell_type": "code",
      "source": [
        "#2o site"
      ],
      "metadata": {
        "id": "ABxzBvswO7dM"
      },
      "execution_count": null,
      "outputs": []
    },
    {
      "cell_type": "code",
      "source": [
        "ertnews_df=pd.read_csv('/content/ertnews.gr-MAY23.csv')"
      ],
      "metadata": {
        "id": "1rAhZqHpCJRE"
      },
      "execution_count": 58,
      "outputs": []
    },
    {
      "cell_type": "code",
      "source": [
        "short_ertnews_df= ertnews_df[['date','text']]\n",
        "short_ertnews_df.head()"
      ],
      "metadata": {
        "id": "snv7-P8PC2sA"
      },
      "execution_count": null,
      "outputs": []
    },
    {
      "cell_type": "code",
      "source": [
        "short_ertnews_df['year']=pd.DatetimeIndex(short_ertnews_df['date']).year\n",
        "short_ertnews_df['month']=pd.DatetimeIndex(short_ertnews_df['date']).month\n",
        "short_ertnews_df['day']=pd.DatetimeIndex(short_ertnews_df['date']).day"
      ],
      "metadata": {
        "id": "hs6nq4oPDV6c"
      },
      "execution_count": null,
      "outputs": []
    },
    {
      "cell_type": "code",
      "source": [
        "cv1 = CountVectorizer()"
      ],
      "metadata": {
        "id": "I3i8ofdpEZKP"
      },
      "execution_count": 61,
      "outputs": []
    },
    {
      "cell_type": "code",
      "source": [
        "count_vector1 = cv.fit_transform(short_ertnews_df['text'])"
      ],
      "metadata": {
        "id": "LF3d7PqzEsBt"
      },
      "execution_count": 62,
      "outputs": []
    },
    {
      "cell_type": "code",
      "source": [
        "count_vector1.shape"
      ],
      "metadata": {
        "colab": {
          "base_uri": "https://localhost:8080/"
        },
        "id": "vORW1xExE4XM",
        "outputId": "bd533f4d-a931-40af-b160-ec1868ffa476"
      },
      "execution_count": 63,
      "outputs": [
        {
          "output_type": "execute_result",
          "data": {
            "text/plain": [
              "(4880, 20)"
            ]
          },
          "metadata": {},
          "execution_count": 63
        }
      ]
    },
    {
      "cell_type": "code",
      "source": [
        "results = pd.DataFrame(count_vector1.toarray(), columns=cv.get_feature_names_out())\n",
        "\n",
        "results.head()"
      ],
      "metadata": {
        "colab": {
          "base_uri": "https://localhost:8080/",
          "height": 267
        },
        "id": "CL14IkRSFCQE",
        "outputId": "00118969-ae19-480c-d676-6c256462d859"
      },
      "execution_count": 64,
      "outputs": [
        {
          "output_type": "execute_result",
          "data": {
            "text/plain": [
              "   00 14  00 15  08 30  09 00  09 30  14 00  15 00  21ης μαΐου  30 15  \\\n",
              "0      0      0      0      0      0      0      0           0      0   \n",
              "1      0      0      0      0      0      0      0           0      0   \n",
              "2      0      0      0      0      0      0      0           0      0   \n",
              "3      0      0      0      0      0      0      0           0      0   \n",
              "4      0      0      0      0      0      0      0           0      0   \n",
              "\n",
              "   αλέξης τσίπρας  απε μπε  εκατ ευρώ  κυριάκος μητσοτάκης  μαΐου 2023  \\\n",
              "0               0        1          0                    0           0   \n",
              "1               0        1          0                    0           0   \n",
              "2               0        0          0                    0           0   \n",
              "3               0        0          0                    0           0   \n",
              "4               0        1          0                    0           0   \n",
              "\n",
              "   νέα δημοκρατία  νέας δημοκρατίας  πηγές απε  πηγή απε  \\\n",
              "0               0                 0          0         1   \n",
              "1               0                 0          0         1   \n",
              "2               0                 0          0         0   \n",
              "3               0                 0          0         0   \n",
              "4               0                 0          0         1   \n",
              "\n",
              "   προεκλογική εκστρατεία  προεκλογικής περιόδου  \n",
              "0                       0                      0  \n",
              "1                       0                      0  \n",
              "2                       0                      0  \n",
              "3                       0                      0  \n",
              "4                       0                      0  "
            ],
            "text/html": [
              "\n",
              "  <div id=\"df-85ef990d-7958-43bc-bd39-1eb1aacf2009\">\n",
              "    <div class=\"colab-df-container\">\n",
              "      <div>\n",
              "<style scoped>\n",
              "    .dataframe tbody tr th:only-of-type {\n",
              "        vertical-align: middle;\n",
              "    }\n",
              "\n",
              "    .dataframe tbody tr th {\n",
              "        vertical-align: top;\n",
              "    }\n",
              "\n",
              "    .dataframe thead th {\n",
              "        text-align: right;\n",
              "    }\n",
              "</style>\n",
              "<table border=\"1\" class=\"dataframe\">\n",
              "  <thead>\n",
              "    <tr style=\"text-align: right;\">\n",
              "      <th></th>\n",
              "      <th>00 14</th>\n",
              "      <th>00 15</th>\n",
              "      <th>08 30</th>\n",
              "      <th>09 00</th>\n",
              "      <th>09 30</th>\n",
              "      <th>14 00</th>\n",
              "      <th>15 00</th>\n",
              "      <th>21ης μαΐου</th>\n",
              "      <th>30 15</th>\n",
              "      <th>αλέξης τσίπρας</th>\n",
              "      <th>απε μπε</th>\n",
              "      <th>εκατ ευρώ</th>\n",
              "      <th>κυριάκος μητσοτάκης</th>\n",
              "      <th>μαΐου 2023</th>\n",
              "      <th>νέα δημοκρατία</th>\n",
              "      <th>νέας δημοκρατίας</th>\n",
              "      <th>πηγές απε</th>\n",
              "      <th>πηγή απε</th>\n",
              "      <th>προεκλογική εκστρατεία</th>\n",
              "      <th>προεκλογικής περιόδου</th>\n",
              "    </tr>\n",
              "  </thead>\n",
              "  <tbody>\n",
              "    <tr>\n",
              "      <th>0</th>\n",
              "      <td>0</td>\n",
              "      <td>0</td>\n",
              "      <td>0</td>\n",
              "      <td>0</td>\n",
              "      <td>0</td>\n",
              "      <td>0</td>\n",
              "      <td>0</td>\n",
              "      <td>0</td>\n",
              "      <td>0</td>\n",
              "      <td>0</td>\n",
              "      <td>1</td>\n",
              "      <td>0</td>\n",
              "      <td>0</td>\n",
              "      <td>0</td>\n",
              "      <td>0</td>\n",
              "      <td>0</td>\n",
              "      <td>0</td>\n",
              "      <td>1</td>\n",
              "      <td>0</td>\n",
              "      <td>0</td>\n",
              "    </tr>\n",
              "    <tr>\n",
              "      <th>1</th>\n",
              "      <td>0</td>\n",
              "      <td>0</td>\n",
              "      <td>0</td>\n",
              "      <td>0</td>\n",
              "      <td>0</td>\n",
              "      <td>0</td>\n",
              "      <td>0</td>\n",
              "      <td>0</td>\n",
              "      <td>0</td>\n",
              "      <td>0</td>\n",
              "      <td>1</td>\n",
              "      <td>0</td>\n",
              "      <td>0</td>\n",
              "      <td>0</td>\n",
              "      <td>0</td>\n",
              "      <td>0</td>\n",
              "      <td>0</td>\n",
              "      <td>1</td>\n",
              "      <td>0</td>\n",
              "      <td>0</td>\n",
              "    </tr>\n",
              "    <tr>\n",
              "      <th>2</th>\n",
              "      <td>0</td>\n",
              "      <td>0</td>\n",
              "      <td>0</td>\n",
              "      <td>0</td>\n",
              "      <td>0</td>\n",
              "      <td>0</td>\n",
              "      <td>0</td>\n",
              "      <td>0</td>\n",
              "      <td>0</td>\n",
              "      <td>0</td>\n",
              "      <td>0</td>\n",
              "      <td>0</td>\n",
              "      <td>0</td>\n",
              "      <td>0</td>\n",
              "      <td>0</td>\n",
              "      <td>0</td>\n",
              "      <td>0</td>\n",
              "      <td>0</td>\n",
              "      <td>0</td>\n",
              "      <td>0</td>\n",
              "    </tr>\n",
              "    <tr>\n",
              "      <th>3</th>\n",
              "      <td>0</td>\n",
              "      <td>0</td>\n",
              "      <td>0</td>\n",
              "      <td>0</td>\n",
              "      <td>0</td>\n",
              "      <td>0</td>\n",
              "      <td>0</td>\n",
              "      <td>0</td>\n",
              "      <td>0</td>\n",
              "      <td>0</td>\n",
              "      <td>0</td>\n",
              "      <td>0</td>\n",
              "      <td>0</td>\n",
              "      <td>0</td>\n",
              "      <td>0</td>\n",
              "      <td>0</td>\n",
              "      <td>0</td>\n",
              "      <td>0</td>\n",
              "      <td>0</td>\n",
              "      <td>0</td>\n",
              "    </tr>\n",
              "    <tr>\n",
              "      <th>4</th>\n",
              "      <td>0</td>\n",
              "      <td>0</td>\n",
              "      <td>0</td>\n",
              "      <td>0</td>\n",
              "      <td>0</td>\n",
              "      <td>0</td>\n",
              "      <td>0</td>\n",
              "      <td>0</td>\n",
              "      <td>0</td>\n",
              "      <td>0</td>\n",
              "      <td>1</td>\n",
              "      <td>0</td>\n",
              "      <td>0</td>\n",
              "      <td>0</td>\n",
              "      <td>0</td>\n",
              "      <td>0</td>\n",
              "      <td>0</td>\n",
              "      <td>1</td>\n",
              "      <td>0</td>\n",
              "      <td>0</td>\n",
              "    </tr>\n",
              "  </tbody>\n",
              "</table>\n",
              "</div>\n",
              "      <button class=\"colab-df-convert\" onclick=\"convertToInteractive('df-85ef990d-7958-43bc-bd39-1eb1aacf2009')\"\n",
              "              title=\"Convert this dataframe to an interactive table.\"\n",
              "              style=\"display:none;\">\n",
              "        \n",
              "  <svg xmlns=\"http://www.w3.org/2000/svg\" height=\"24px\"viewBox=\"0 0 24 24\"\n",
              "       width=\"24px\">\n",
              "    <path d=\"M0 0h24v24H0V0z\" fill=\"none\"/>\n",
              "    <path d=\"M18.56 5.44l.94 2.06.94-2.06 2.06-.94-2.06-.94-.94-2.06-.94 2.06-2.06.94zm-11 1L8.5 8.5l.94-2.06 2.06-.94-2.06-.94L8.5 2.5l-.94 2.06-2.06.94zm10 10l.94 2.06.94-2.06 2.06-.94-2.06-.94-.94-2.06-.94 2.06-2.06.94z\"/><path d=\"M17.41 7.96l-1.37-1.37c-.4-.4-.92-.59-1.43-.59-.52 0-1.04.2-1.43.59L10.3 9.45l-7.72 7.72c-.78.78-.78 2.05 0 2.83L4 21.41c.39.39.9.59 1.41.59.51 0 1.02-.2 1.41-.59l7.78-7.78 2.81-2.81c.8-.78.8-2.07 0-2.86zM5.41 20L4 18.59l7.72-7.72 1.47 1.35L5.41 20z\"/>\n",
              "  </svg>\n",
              "      </button>\n",
              "      \n",
              "  <style>\n",
              "    .colab-df-container {\n",
              "      display:flex;\n",
              "      flex-wrap:wrap;\n",
              "      gap: 12px;\n",
              "    }\n",
              "\n",
              "    .colab-df-convert {\n",
              "      background-color: #E8F0FE;\n",
              "      border: none;\n",
              "      border-radius: 50%;\n",
              "      cursor: pointer;\n",
              "      display: none;\n",
              "      fill: #1967D2;\n",
              "      height: 32px;\n",
              "      padding: 0 0 0 0;\n",
              "      width: 32px;\n",
              "    }\n",
              "\n",
              "    .colab-df-convert:hover {\n",
              "      background-color: #E2EBFA;\n",
              "      box-shadow: 0px 1px 2px rgba(60, 64, 67, 0.3), 0px 1px 3px 1px rgba(60, 64, 67, 0.15);\n",
              "      fill: #174EA6;\n",
              "    }\n",
              "\n",
              "    [theme=dark] .colab-df-convert {\n",
              "      background-color: #3B4455;\n",
              "      fill: #D2E3FC;\n",
              "    }\n",
              "\n",
              "    [theme=dark] .colab-df-convert:hover {\n",
              "      background-color: #434B5C;\n",
              "      box-shadow: 0px 1px 3px 1px rgba(0, 0, 0, 0.15);\n",
              "      filter: drop-shadow(0px 1px 2px rgba(0, 0, 0, 0.3));\n",
              "      fill: #FFFFFF;\n",
              "    }\n",
              "  </style>\n",
              "\n",
              "      <script>\n",
              "        const buttonEl =\n",
              "          document.querySelector('#df-85ef990d-7958-43bc-bd39-1eb1aacf2009 button.colab-df-convert');\n",
              "        buttonEl.style.display =\n",
              "          google.colab.kernel.accessAllowed ? 'block' : 'none';\n",
              "\n",
              "        async function convertToInteractive(key) {\n",
              "          const element = document.querySelector('#df-85ef990d-7958-43bc-bd39-1eb1aacf2009');\n",
              "          const dataTable =\n",
              "            await google.colab.kernel.invokeFunction('convertToInteractive',\n",
              "                                                     [key], {});\n",
              "          if (!dataTable) return;\n",
              "\n",
              "          const docLinkHtml = 'Like what you see? Visit the ' +\n",
              "            '<a target=\"_blank\" href=https://colab.research.google.com/notebooks/data_table.ipynb>data table notebook</a>'\n",
              "            + ' to learn more about interactive tables.';\n",
              "          element.innerHTML = '';\n",
              "          dataTable['output_type'] = 'display_data';\n",
              "          await google.colab.output.renderOutput(dataTable, element);\n",
              "          const docLink = document.createElement('div');\n",
              "          docLink.innerHTML = docLinkHtml;\n",
              "          element.appendChild(docLink);\n",
              "        }\n",
              "      </script>\n",
              "    </div>\n",
              "  </div>\n",
              "  "
            ]
          },
          "metadata": {},
          "execution_count": 64
        }
      ]
    },
    {
      "cell_type": "code",
      "source": [
        "cv1= CountVectorizer(stop_words= list(nlp.Defaults.stop_words))"
      ],
      "metadata": {
        "id": "qmt_aTonFIHG"
      },
      "execution_count": 65,
      "outputs": []
    },
    {
      "cell_type": "code",
      "source": [
        "  count_vector1 = cv.fit_transform(short_ertnews_df['text'])"
      ],
      "metadata": {
        "id": "mARI1B0LFPoW"
      },
      "execution_count": 66,
      "outputs": []
    },
    {
      "cell_type": "code",
      "source": [
        "results1 = pd.DataFrame(count_vector1.toarray(), columns=cv.get_feature_names_out())\n",
        "\n",
        "results.head()"
      ],
      "metadata": {
        "id": "sNScATZvFcxQ"
      },
      "execution_count": null,
      "outputs": []
    },
    {
      "cell_type": "code",
      "source": [
        "cv1 = CountVectorizer( stop_words= list(nlp.Defaults.stop_words), max_features=20)\n",
        "count_vector1 = cv1.fit_transform(short_ertnews_df['text'])\n",
        "results1 = pd.DataFrame(count_vector1.toarray(), columns=cv1.get_feature_names_out())\n",
        "results1.head()\n",
        ""
      ],
      "metadata": {
        "colab": {
          "base_uri": "https://localhost:8080/",
          "height": 206
        },
        "id": "_8uAkE9JFlAf",
        "outputId": "76f9b319-9b32-4be6-dfbf-019cf5b5f007"
      },
      "execution_count": 68,
      "outputs": [
        {
          "output_type": "execute_result",
          "data": {
            "text/plain": [
              "   00  15  2023  30  δήλωσε  δύο  είπε  εκλογές  ελλάδα  ευρώ  κυβέρνηση  \\\n",
              "0   0   0     0   0       0    0     0        0       0     0          0   \n",
              "1   0   0     0   0       0    0     0        0       0     0          0   \n",
              "2   0   0     0   0       1    0     1        0       0     0          0   \n",
              "3   0   0     0   0       0    0     0        0       0     0          0   \n",
              "4   0   0     0   0       1    0     0        0       0     0          0   \n",
              "\n",
              "   μαΐου  νέα  πηγή  πρόεδρος  σήμερα  συριζα  σύμφωνα  χρόνια  χώρα  \n",
              "0      0    0     1         1       0       0        1       0     0  \n",
              "1      0    0     1         0       0       0        0       0     0  \n",
              "2      0    0     0         0       0       0        0       0     0  \n",
              "3      0    0     0         0       0       0        0       0     0  \n",
              "4      0    0     1         1       0       0        0       0     0  "
            ],
            "text/html": [
              "\n",
              "  <div id=\"df-82aab33f-792c-44d6-b19d-40bb90c09464\">\n",
              "    <div class=\"colab-df-container\">\n",
              "      <div>\n",
              "<style scoped>\n",
              "    .dataframe tbody tr th:only-of-type {\n",
              "        vertical-align: middle;\n",
              "    }\n",
              "\n",
              "    .dataframe tbody tr th {\n",
              "        vertical-align: top;\n",
              "    }\n",
              "\n",
              "    .dataframe thead th {\n",
              "        text-align: right;\n",
              "    }\n",
              "</style>\n",
              "<table border=\"1\" class=\"dataframe\">\n",
              "  <thead>\n",
              "    <tr style=\"text-align: right;\">\n",
              "      <th></th>\n",
              "      <th>00</th>\n",
              "      <th>15</th>\n",
              "      <th>2023</th>\n",
              "      <th>30</th>\n",
              "      <th>δήλωσε</th>\n",
              "      <th>δύο</th>\n",
              "      <th>είπε</th>\n",
              "      <th>εκλογές</th>\n",
              "      <th>ελλάδα</th>\n",
              "      <th>ευρώ</th>\n",
              "      <th>κυβέρνηση</th>\n",
              "      <th>μαΐου</th>\n",
              "      <th>νέα</th>\n",
              "      <th>πηγή</th>\n",
              "      <th>πρόεδρος</th>\n",
              "      <th>σήμερα</th>\n",
              "      <th>συριζα</th>\n",
              "      <th>σύμφωνα</th>\n",
              "      <th>χρόνια</th>\n",
              "      <th>χώρα</th>\n",
              "    </tr>\n",
              "  </thead>\n",
              "  <tbody>\n",
              "    <tr>\n",
              "      <th>0</th>\n",
              "      <td>0</td>\n",
              "      <td>0</td>\n",
              "      <td>0</td>\n",
              "      <td>0</td>\n",
              "      <td>0</td>\n",
              "      <td>0</td>\n",
              "      <td>0</td>\n",
              "      <td>0</td>\n",
              "      <td>0</td>\n",
              "      <td>0</td>\n",
              "      <td>0</td>\n",
              "      <td>0</td>\n",
              "      <td>0</td>\n",
              "      <td>1</td>\n",
              "      <td>1</td>\n",
              "      <td>0</td>\n",
              "      <td>0</td>\n",
              "      <td>1</td>\n",
              "      <td>0</td>\n",
              "      <td>0</td>\n",
              "    </tr>\n",
              "    <tr>\n",
              "      <th>1</th>\n",
              "      <td>0</td>\n",
              "      <td>0</td>\n",
              "      <td>0</td>\n",
              "      <td>0</td>\n",
              "      <td>0</td>\n",
              "      <td>0</td>\n",
              "      <td>0</td>\n",
              "      <td>0</td>\n",
              "      <td>0</td>\n",
              "      <td>0</td>\n",
              "      <td>0</td>\n",
              "      <td>0</td>\n",
              "      <td>0</td>\n",
              "      <td>1</td>\n",
              "      <td>0</td>\n",
              "      <td>0</td>\n",
              "      <td>0</td>\n",
              "      <td>0</td>\n",
              "      <td>0</td>\n",
              "      <td>0</td>\n",
              "    </tr>\n",
              "    <tr>\n",
              "      <th>2</th>\n",
              "      <td>0</td>\n",
              "      <td>0</td>\n",
              "      <td>0</td>\n",
              "      <td>0</td>\n",
              "      <td>1</td>\n",
              "      <td>0</td>\n",
              "      <td>1</td>\n",
              "      <td>0</td>\n",
              "      <td>0</td>\n",
              "      <td>0</td>\n",
              "      <td>0</td>\n",
              "      <td>0</td>\n",
              "      <td>0</td>\n",
              "      <td>0</td>\n",
              "      <td>0</td>\n",
              "      <td>0</td>\n",
              "      <td>0</td>\n",
              "      <td>0</td>\n",
              "      <td>0</td>\n",
              "      <td>0</td>\n",
              "    </tr>\n",
              "    <tr>\n",
              "      <th>3</th>\n",
              "      <td>0</td>\n",
              "      <td>0</td>\n",
              "      <td>0</td>\n",
              "      <td>0</td>\n",
              "      <td>0</td>\n",
              "      <td>0</td>\n",
              "      <td>0</td>\n",
              "      <td>0</td>\n",
              "      <td>0</td>\n",
              "      <td>0</td>\n",
              "      <td>0</td>\n",
              "      <td>0</td>\n",
              "      <td>0</td>\n",
              "      <td>0</td>\n",
              "      <td>0</td>\n",
              "      <td>0</td>\n",
              "      <td>0</td>\n",
              "      <td>0</td>\n",
              "      <td>0</td>\n",
              "      <td>0</td>\n",
              "    </tr>\n",
              "    <tr>\n",
              "      <th>4</th>\n",
              "      <td>0</td>\n",
              "      <td>0</td>\n",
              "      <td>0</td>\n",
              "      <td>0</td>\n",
              "      <td>1</td>\n",
              "      <td>0</td>\n",
              "      <td>0</td>\n",
              "      <td>0</td>\n",
              "      <td>0</td>\n",
              "      <td>0</td>\n",
              "      <td>0</td>\n",
              "      <td>0</td>\n",
              "      <td>0</td>\n",
              "      <td>1</td>\n",
              "      <td>1</td>\n",
              "      <td>0</td>\n",
              "      <td>0</td>\n",
              "      <td>0</td>\n",
              "      <td>0</td>\n",
              "      <td>0</td>\n",
              "    </tr>\n",
              "  </tbody>\n",
              "</table>\n",
              "</div>\n",
              "      <button class=\"colab-df-convert\" onclick=\"convertToInteractive('df-82aab33f-792c-44d6-b19d-40bb90c09464')\"\n",
              "              title=\"Convert this dataframe to an interactive table.\"\n",
              "              style=\"display:none;\">\n",
              "        \n",
              "  <svg xmlns=\"http://www.w3.org/2000/svg\" height=\"24px\"viewBox=\"0 0 24 24\"\n",
              "       width=\"24px\">\n",
              "    <path d=\"M0 0h24v24H0V0z\" fill=\"none\"/>\n",
              "    <path d=\"M18.56 5.44l.94 2.06.94-2.06 2.06-.94-2.06-.94-.94-2.06-.94 2.06-2.06.94zm-11 1L8.5 8.5l.94-2.06 2.06-.94-2.06-.94L8.5 2.5l-.94 2.06-2.06.94zm10 10l.94 2.06.94-2.06 2.06-.94-2.06-.94-.94-2.06-.94 2.06-2.06.94z\"/><path d=\"M17.41 7.96l-1.37-1.37c-.4-.4-.92-.59-1.43-.59-.52 0-1.04.2-1.43.59L10.3 9.45l-7.72 7.72c-.78.78-.78 2.05 0 2.83L4 21.41c.39.39.9.59 1.41.59.51 0 1.02-.2 1.41-.59l7.78-7.78 2.81-2.81c.8-.78.8-2.07 0-2.86zM5.41 20L4 18.59l7.72-7.72 1.47 1.35L5.41 20z\"/>\n",
              "  </svg>\n",
              "      </button>\n",
              "      \n",
              "  <style>\n",
              "    .colab-df-container {\n",
              "      display:flex;\n",
              "      flex-wrap:wrap;\n",
              "      gap: 12px;\n",
              "    }\n",
              "\n",
              "    .colab-df-convert {\n",
              "      background-color: #E8F0FE;\n",
              "      border: none;\n",
              "      border-radius: 50%;\n",
              "      cursor: pointer;\n",
              "      display: none;\n",
              "      fill: #1967D2;\n",
              "      height: 32px;\n",
              "      padding: 0 0 0 0;\n",
              "      width: 32px;\n",
              "    }\n",
              "\n",
              "    .colab-df-convert:hover {\n",
              "      background-color: #E2EBFA;\n",
              "      box-shadow: 0px 1px 2px rgba(60, 64, 67, 0.3), 0px 1px 3px 1px rgba(60, 64, 67, 0.15);\n",
              "      fill: #174EA6;\n",
              "    }\n",
              "\n",
              "    [theme=dark] .colab-df-convert {\n",
              "      background-color: #3B4455;\n",
              "      fill: #D2E3FC;\n",
              "    }\n",
              "\n",
              "    [theme=dark] .colab-df-convert:hover {\n",
              "      background-color: #434B5C;\n",
              "      box-shadow: 0px 1px 3px 1px rgba(0, 0, 0, 0.15);\n",
              "      filter: drop-shadow(0px 1px 2px rgba(0, 0, 0, 0.3));\n",
              "      fill: #FFFFFF;\n",
              "    }\n",
              "  </style>\n",
              "\n",
              "      <script>\n",
              "        const buttonEl =\n",
              "          document.querySelector('#df-82aab33f-792c-44d6-b19d-40bb90c09464 button.colab-df-convert');\n",
              "        buttonEl.style.display =\n",
              "          google.colab.kernel.accessAllowed ? 'block' : 'none';\n",
              "\n",
              "        async function convertToInteractive(key) {\n",
              "          const element = document.querySelector('#df-82aab33f-792c-44d6-b19d-40bb90c09464');\n",
              "          const dataTable =\n",
              "            await google.colab.kernel.invokeFunction('convertToInteractive',\n",
              "                                                     [key], {});\n",
              "          if (!dataTable) return;\n",
              "\n",
              "          const docLinkHtml = 'Like what you see? Visit the ' +\n",
              "            '<a target=\"_blank\" href=https://colab.research.google.com/notebooks/data_table.ipynb>data table notebook</a>'\n",
              "            + ' to learn more about interactive tables.';\n",
              "          element.innerHTML = '';\n",
              "          dataTable['output_type'] = 'display_data';\n",
              "          await google.colab.output.renderOutput(dataTable, element);\n",
              "          const docLink = document.createElement('div');\n",
              "          docLink.innerHTML = docLinkHtml;\n",
              "          element.appendChild(docLink);\n",
              "        }\n",
              "      </script>\n",
              "    </div>\n",
              "  </div>\n",
              "  "
            ]
          },
          "metadata": {},
          "execution_count": 68
        }
      ]
    },
    {
      "cell_type": "code",
      "source": [
        "results1.sum(axis =0).sort_values(ascending = False)"
      ],
      "metadata": {
        "colab": {
          "base_uri": "https://localhost:8080/"
        },
        "id": "7Nsh2VTXF481",
        "outputId": "c90d277c-b946-484b-f2c4-4e5e8dabc57b"
      },
      "execution_count": 69,
      "outputs": [
        {
          "output_type": "execute_result",
          "data": {
            "text/plain": [
              "00           3627\n",
              "30           2530\n",
              "σήμερα       2502\n",
              "δύο          2326\n",
              "συριζα       2323\n",
              "είπε         2318\n",
              "σύμφωνα      2258\n",
              "εκλογές      2137\n",
              "χώρα         2039\n",
              "κυβέρνηση    1983\n",
              "δήλωσε       1887\n",
              "πρόεδρος     1883\n",
              "ελλάδα       1883\n",
              "νέα          1857\n",
              "ευρώ         1844\n",
              "μαΐου        1822\n",
              "15           1797\n",
              "χρόνια       1755\n",
              "2023         1725\n",
              "πηγή         1514\n",
              "dtype: int64"
            ]
          },
          "metadata": {},
          "execution_count": 69
        }
      ]
    },
    {
      "cell_type": "code",
      "source": [
        "sum_words =  results.sum(axis =0)\n",
        "sum_words.sort_values(ascending = False).head()"
      ],
      "metadata": {
        "colab": {
          "base_uri": "https://localhost:8080/"
        },
        "id": "593HD4ZjGKnG",
        "outputId": "2e170a1c-5fea-4c17-e2d8-baf1d2e78a73"
      },
      "execution_count": 70,
      "outputs": [
        {
          "output_type": "execute_result",
          "data": {
            "text/plain": [
              "απε μπε                1145\n",
              "15 00                   910\n",
              "09 00                   892\n",
              "κυριάκος μητσοτάκης     797\n",
              "00 15                   648\n",
              "dtype: int64"
            ]
          },
          "metadata": {},
          "execution_count": 70
        }
      ]
    },
    {
      "cell_type": "code",
      "source": [
        "tfidf_vectorizer = TfidfVectorizer(stop_words= list(nlp.Defaults.stop_words), max_features=500)\n",
        "tfidf_matrix_train = tfidf_vectorizer.fit_transform(short_ertnews_df['text'])  #finds the tfidf score with normalization\n",
        "\n",
        "\n",
        "results1 = pd.DataFrame(tfidf_matrix_train.toarray(), columns=tfidf_vectorizer.get_feature_names_out())\n",
        "results1.head()"
      ],
      "metadata": {
        "colab": {
          "base_uri": "https://localhost:8080/",
          "height": 235
        },
        "id": "d4SrwTG6GP4v",
        "outputId": "23ab95f5-756b-4d77-82ae-2b69b11e2017"
      },
      "execution_count": 71,
      "outputs": [
        {
          "output_type": "execute_result",
          "data": {
            "text/plain": [
              "    00  000   05   08   09   10  100   11   12   13  ...  χρόνια  χρόνο  \\\n",
              "0  0.0  0.0  0.0  0.0  0.0  0.0  0.0  0.0  0.0  0.0  ...     0.0    0.0   \n",
              "1  0.0  0.0  0.0  0.0  0.0  0.0  0.0  0.0  0.0  0.0  ...     0.0    0.0   \n",
              "2  0.0  0.0  0.0  0.0  0.0  0.0  0.0  0.0  0.0  0.0  ...     0.0    0.0   \n",
              "3  0.0  0.0  0.0  0.0  0.0  0.0  0.0  0.0  0.0  0.0  ...     0.0    0.0   \n",
              "4  0.0  0.0  0.0  0.0  0.0  0.0  0.0  0.0  0.0  0.0  ...     0.0    0.0   \n",
              "\n",
              "   χωρών  χώρα     χώρας  χώρες  χώρο  ψηφίσουν  ώρα  ώρες  \n",
              "0    0.0   0.0  0.199178    0.0   0.0       0.0  0.0   0.0  \n",
              "1    0.0   0.0  0.000000    0.0   0.0       0.0  0.0   0.0  \n",
              "2    0.0   0.0  0.000000    0.0   0.0       0.0  0.0   0.0  \n",
              "3    0.0   0.0  0.000000    0.0   0.0       0.0  0.0   0.0  \n",
              "4    0.0   0.0  0.000000    0.0   0.0       0.0  0.0   0.0  \n",
              "\n",
              "[5 rows x 500 columns]"
            ],
            "text/html": [
              "\n",
              "  <div id=\"df-eabacac7-814c-43ee-82af-0306b28a8520\">\n",
              "    <div class=\"colab-df-container\">\n",
              "      <div>\n",
              "<style scoped>\n",
              "    .dataframe tbody tr th:only-of-type {\n",
              "        vertical-align: middle;\n",
              "    }\n",
              "\n",
              "    .dataframe tbody tr th {\n",
              "        vertical-align: top;\n",
              "    }\n",
              "\n",
              "    .dataframe thead th {\n",
              "        text-align: right;\n",
              "    }\n",
              "</style>\n",
              "<table border=\"1\" class=\"dataframe\">\n",
              "  <thead>\n",
              "    <tr style=\"text-align: right;\">\n",
              "      <th></th>\n",
              "      <th>00</th>\n",
              "      <th>000</th>\n",
              "      <th>05</th>\n",
              "      <th>08</th>\n",
              "      <th>09</th>\n",
              "      <th>10</th>\n",
              "      <th>100</th>\n",
              "      <th>11</th>\n",
              "      <th>12</th>\n",
              "      <th>13</th>\n",
              "      <th>...</th>\n",
              "      <th>χρόνια</th>\n",
              "      <th>χρόνο</th>\n",
              "      <th>χωρών</th>\n",
              "      <th>χώρα</th>\n",
              "      <th>χώρας</th>\n",
              "      <th>χώρες</th>\n",
              "      <th>χώρο</th>\n",
              "      <th>ψηφίσουν</th>\n",
              "      <th>ώρα</th>\n",
              "      <th>ώρες</th>\n",
              "    </tr>\n",
              "  </thead>\n",
              "  <tbody>\n",
              "    <tr>\n",
              "      <th>0</th>\n",
              "      <td>0.0</td>\n",
              "      <td>0.0</td>\n",
              "      <td>0.0</td>\n",
              "      <td>0.0</td>\n",
              "      <td>0.0</td>\n",
              "      <td>0.0</td>\n",
              "      <td>0.0</td>\n",
              "      <td>0.0</td>\n",
              "      <td>0.0</td>\n",
              "      <td>0.0</td>\n",
              "      <td>...</td>\n",
              "      <td>0.0</td>\n",
              "      <td>0.0</td>\n",
              "      <td>0.0</td>\n",
              "      <td>0.0</td>\n",
              "      <td>0.199178</td>\n",
              "      <td>0.0</td>\n",
              "      <td>0.0</td>\n",
              "      <td>0.0</td>\n",
              "      <td>0.0</td>\n",
              "      <td>0.0</td>\n",
              "    </tr>\n",
              "    <tr>\n",
              "      <th>1</th>\n",
              "      <td>0.0</td>\n",
              "      <td>0.0</td>\n",
              "      <td>0.0</td>\n",
              "      <td>0.0</td>\n",
              "      <td>0.0</td>\n",
              "      <td>0.0</td>\n",
              "      <td>0.0</td>\n",
              "      <td>0.0</td>\n",
              "      <td>0.0</td>\n",
              "      <td>0.0</td>\n",
              "      <td>...</td>\n",
              "      <td>0.0</td>\n",
              "      <td>0.0</td>\n",
              "      <td>0.0</td>\n",
              "      <td>0.0</td>\n",
              "      <td>0.000000</td>\n",
              "      <td>0.0</td>\n",
              "      <td>0.0</td>\n",
              "      <td>0.0</td>\n",
              "      <td>0.0</td>\n",
              "      <td>0.0</td>\n",
              "    </tr>\n",
              "    <tr>\n",
              "      <th>2</th>\n",
              "      <td>0.0</td>\n",
              "      <td>0.0</td>\n",
              "      <td>0.0</td>\n",
              "      <td>0.0</td>\n",
              "      <td>0.0</td>\n",
              "      <td>0.0</td>\n",
              "      <td>0.0</td>\n",
              "      <td>0.0</td>\n",
              "      <td>0.0</td>\n",
              "      <td>0.0</td>\n",
              "      <td>...</td>\n",
              "      <td>0.0</td>\n",
              "      <td>0.0</td>\n",
              "      <td>0.0</td>\n",
              "      <td>0.0</td>\n",
              "      <td>0.000000</td>\n",
              "      <td>0.0</td>\n",
              "      <td>0.0</td>\n",
              "      <td>0.0</td>\n",
              "      <td>0.0</td>\n",
              "      <td>0.0</td>\n",
              "    </tr>\n",
              "    <tr>\n",
              "      <th>3</th>\n",
              "      <td>0.0</td>\n",
              "      <td>0.0</td>\n",
              "      <td>0.0</td>\n",
              "      <td>0.0</td>\n",
              "      <td>0.0</td>\n",
              "      <td>0.0</td>\n",
              "      <td>0.0</td>\n",
              "      <td>0.0</td>\n",
              "      <td>0.0</td>\n",
              "      <td>0.0</td>\n",
              "      <td>...</td>\n",
              "      <td>0.0</td>\n",
              "      <td>0.0</td>\n",
              "      <td>0.0</td>\n",
              "      <td>0.0</td>\n",
              "      <td>0.000000</td>\n",
              "      <td>0.0</td>\n",
              "      <td>0.0</td>\n",
              "      <td>0.0</td>\n",
              "      <td>0.0</td>\n",
              "      <td>0.0</td>\n",
              "    </tr>\n",
              "    <tr>\n",
              "      <th>4</th>\n",
              "      <td>0.0</td>\n",
              "      <td>0.0</td>\n",
              "      <td>0.0</td>\n",
              "      <td>0.0</td>\n",
              "      <td>0.0</td>\n",
              "      <td>0.0</td>\n",
              "      <td>0.0</td>\n",
              "      <td>0.0</td>\n",
              "      <td>0.0</td>\n",
              "      <td>0.0</td>\n",
              "      <td>...</td>\n",
              "      <td>0.0</td>\n",
              "      <td>0.0</td>\n",
              "      <td>0.0</td>\n",
              "      <td>0.0</td>\n",
              "      <td>0.000000</td>\n",
              "      <td>0.0</td>\n",
              "      <td>0.0</td>\n",
              "      <td>0.0</td>\n",
              "      <td>0.0</td>\n",
              "      <td>0.0</td>\n",
              "    </tr>\n",
              "  </tbody>\n",
              "</table>\n",
              "<p>5 rows × 500 columns</p>\n",
              "</div>\n",
              "      <button class=\"colab-df-convert\" onclick=\"convertToInteractive('df-eabacac7-814c-43ee-82af-0306b28a8520')\"\n",
              "              title=\"Convert this dataframe to an interactive table.\"\n",
              "              style=\"display:none;\">\n",
              "        \n",
              "  <svg xmlns=\"http://www.w3.org/2000/svg\" height=\"24px\"viewBox=\"0 0 24 24\"\n",
              "       width=\"24px\">\n",
              "    <path d=\"M0 0h24v24H0V0z\" fill=\"none\"/>\n",
              "    <path d=\"M18.56 5.44l.94 2.06.94-2.06 2.06-.94-2.06-.94-.94-2.06-.94 2.06-2.06.94zm-11 1L8.5 8.5l.94-2.06 2.06-.94-2.06-.94L8.5 2.5l-.94 2.06-2.06.94zm10 10l.94 2.06.94-2.06 2.06-.94-2.06-.94-.94-2.06-.94 2.06-2.06.94z\"/><path d=\"M17.41 7.96l-1.37-1.37c-.4-.4-.92-.59-1.43-.59-.52 0-1.04.2-1.43.59L10.3 9.45l-7.72 7.72c-.78.78-.78 2.05 0 2.83L4 21.41c.39.39.9.59 1.41.59.51 0 1.02-.2 1.41-.59l7.78-7.78 2.81-2.81c.8-.78.8-2.07 0-2.86zM5.41 20L4 18.59l7.72-7.72 1.47 1.35L5.41 20z\"/>\n",
              "  </svg>\n",
              "      </button>\n",
              "      \n",
              "  <style>\n",
              "    .colab-df-container {\n",
              "      display:flex;\n",
              "      flex-wrap:wrap;\n",
              "      gap: 12px;\n",
              "    }\n",
              "\n",
              "    .colab-df-convert {\n",
              "      background-color: #E8F0FE;\n",
              "      border: none;\n",
              "      border-radius: 50%;\n",
              "      cursor: pointer;\n",
              "      display: none;\n",
              "      fill: #1967D2;\n",
              "      height: 32px;\n",
              "      padding: 0 0 0 0;\n",
              "      width: 32px;\n",
              "    }\n",
              "\n",
              "    .colab-df-convert:hover {\n",
              "      background-color: #E2EBFA;\n",
              "      box-shadow: 0px 1px 2px rgba(60, 64, 67, 0.3), 0px 1px 3px 1px rgba(60, 64, 67, 0.15);\n",
              "      fill: #174EA6;\n",
              "    }\n",
              "\n",
              "    [theme=dark] .colab-df-convert {\n",
              "      background-color: #3B4455;\n",
              "      fill: #D2E3FC;\n",
              "    }\n",
              "\n",
              "    [theme=dark] .colab-df-convert:hover {\n",
              "      background-color: #434B5C;\n",
              "      box-shadow: 0px 1px 3px 1px rgba(0, 0, 0, 0.15);\n",
              "      filter: drop-shadow(0px 1px 2px rgba(0, 0, 0, 0.3));\n",
              "      fill: #FFFFFF;\n",
              "    }\n",
              "  </style>\n",
              "\n",
              "      <script>\n",
              "        const buttonEl =\n",
              "          document.querySelector('#df-eabacac7-814c-43ee-82af-0306b28a8520 button.colab-df-convert');\n",
              "        buttonEl.style.display =\n",
              "          google.colab.kernel.accessAllowed ? 'block' : 'none';\n",
              "\n",
              "        async function convertToInteractive(key) {\n",
              "          const element = document.querySelector('#df-eabacac7-814c-43ee-82af-0306b28a8520');\n",
              "          const dataTable =\n",
              "            await google.colab.kernel.invokeFunction('convertToInteractive',\n",
              "                                                     [key], {});\n",
              "          if (!dataTable) return;\n",
              "\n",
              "          const docLinkHtml = 'Like what you see? Visit the ' +\n",
              "            '<a target=\"_blank\" href=https://colab.research.google.com/notebooks/data_table.ipynb>data table notebook</a>'\n",
              "            + ' to learn more about interactive tables.';\n",
              "          element.innerHTML = '';\n",
              "          dataTable['output_type'] = 'display_data';\n",
              "          await google.colab.output.renderOutput(dataTable, element);\n",
              "          const docLink = document.createElement('div');\n",
              "          docLink.innerHTML = docLinkHtml;\n",
              "          element.appendChild(docLink);\n",
              "        }\n",
              "      </script>\n",
              "    </div>\n",
              "  </div>\n",
              "  "
            ]
          },
          "metadata": {},
          "execution_count": 71
        }
      ]
    },
    {
      "cell_type": "code",
      "source": [
        "from sklearn.metrics.pairwise import cosine_similarity\n",
        "\n",
        "print(\"cosine scores ==> \",cosine_similarity(tfidf_matrix_train[0:1], tfidf_matrix_train))"
      ],
      "metadata": {
        "colab": {
          "base_uri": "https://localhost:8080/"
        },
        "id": "pX32pxc3GoOX",
        "outputId": "96430d34-12fc-47bf-8b3b-0cbb58f884d7"
      },
      "execution_count": 72,
      "outputs": [
        {
          "output_type": "stream",
          "name": "stdout",
          "text": [
            "cosine scores ==>  [[1.         0.11015748 0.06428154 ... 0.11354074 0.07140758 0.06260056]]\n"
          ]
        }
      ]
    },
    {
      "cell_type": "code",
      "source": [
        "arr = cosine_similarity(tfidf_matrix_train, tfidf_matrix_train)"
      ],
      "metadata": {
        "id": "hi8498aCHSWu"
      },
      "execution_count": 73,
      "outputs": []
    },
    {
      "cell_type": "code",
      "source": [
        "pd.DataFrame(arr).loc[3].sort_values(ascending = False).head(20).plot(kind = 'bar')"
      ],
      "metadata": {
        "colab": {
          "base_uri": "https://localhost:8080/",
          "height": 468
        },
        "id": "PpisXXWwHYUT",
        "outputId": "188efbec-6fa5-441a-855f-b33bfa6f083b"
      },
      "execution_count": 74,
      "outputs": [
        {
          "output_type": "execute_result",
          "data": {
            "text/plain": [
              "<Axes: >"
            ]
          },
          "metadata": {},
          "execution_count": 74
        },
        {
          "output_type": "display_data",
          "data": {
            "text/plain": [
              "<Figure size 640x480 with 1 Axes>"
            ],
            "image/png": "[encoded data removed]"
          },
          "metadata": {}
        }
      ]
    },
    {
      "cell_type": "code",
      "source": [
        "short_ertnews_df['text'].loc[3]\n"
      ],
      "metadata": {
        "colab": {
          "base_uri": "https://localhost:8080/",
          "height": 53
        },
        "id": "CRNUODm4Hc-L",
        "outputId": "8ad40911-7152-4ffd-e6d0-0d8f562f59fc"
      },
      "execution_count": 75,
      "outputs": [
        {
          "output_type": "execute_result",
          "data": {
            "text/plain": [
              "'Ολοσχερώς καταστράφηκε καφετέρια στην Αρτέμιδα μετά από πυρκαγιά που ξέσπασε μετά τις 4 τα ξημερώματα στην Λεωφόρο Αρτέμιδος. Στο σημείο επιχείρησαν 20 πυροσβέστες με 6 οχήματα, ενώ τα αίτια του συμβάντος διερευνά το ανακριτικό τμήμα της Πυροσβεστικής .'"
            ],
            "application/vnd.google.colaboratory.intrinsic+json": {
              "type": "string"
            }
          },
          "metadata": {},
          "execution_count": 75
        }
      ]
    },
    {
      "cell_type": "code",
      "source": [
        "arr = cosine_similarity(tfidf_matrix_train[0:10], tfidf_matrix_train[0:10]) # συγκρίνουμε τα 10 πρώτα άρθρα μεταξύ τους\n",
        "\n",
        "\n",
        "plt.figure(figsize=(10, 10))\n",
        "# annot = True to print the values inside the square\n",
        "plt.title('Βαθμός ομοιότητας των 10 πρώτων άρθρων', y=1.02, fontweight='bold') # το y ορίζει την απόσταση του τίτλου από το γράφημα\n",
        "sns.heatmap(data=arr, annot=True, vmin=0.05, vmax=0.98, cmap=\"PiYG\")\n"
      ],
      "metadata": {
        "colab": {
          "base_uri": "https://localhost:8080/",
          "height": 885
        },
        "id": "z8SPkz83Hl0o",
        "outputId": "14cc6720-e285-4b1b-abd7-5afc4c13d5dc"
      },
      "execution_count": 76,
      "outputs": [
        {
          "output_type": "execute_result",
          "data": {
            "text/plain": [
              "<Axes: title={'center': 'Βαθμός ομοιότητας των 10 πρώτων άρθρων'}>"
            ]
          },
          "metadata": {},
          "execution_count": 76
        },
        {
          "output_type": "display_data",
          "data": {
            "text/plain": [
              "<Figure size 1000x1000 with 2 Axes>"
            ],
            "image/png": "[encoded data removed]"
          },
          "metadata": {}
        }
      ]
    },
    {
      "cell_type": "code",
      "source": [
        "#3o"
      ],
      "metadata": {
        "id": "YlhM6yFHHw8l"
      },
      "execution_count": null,
      "outputs": []
    },
    {
      "cell_type": "code",
      "source": [
        "newsbeast_text = news_beast_articles_df['Article_content'].str.cat(sep = ' ')"
      ],
      "metadata": {
        "id": "NUfHrOo5OkeP"
      },
      "execution_count": 79,
      "outputs": []
    },
    {
      "cell_type": "code",
      "source": [
        "ert_text = short_ertnews_df['text'].str.cat(sep=' ')\n"
      ],
      "metadata": {
        "id": "SPDOgJBZPNnh"
      },
      "execution_count": 80,
      "outputs": []
    },
    {
      "cell_type": "code",
      "source": [
        "two_sites_list = [] # make a list to put in the dictionaries that are created below\n",
        "newsbeastD = {'site' : 'newsbeast.gr', 'text' : 'newsbeast_text'} # make a dictionary for efsyn\n",
        "two_sites_list.append(newsbeastD) # add the dictionary to the list\n",
        "ertD = {'site' : 'ert.gr', 'text' : 'ert_test'} # create a dictionary for skai\n",
        "two_sites_list.append(ertD) # add the dictionary to the list\n",
        "two_sites_df = pd.DataFrame(two_sites_list) # create a dataframe from the list with the two dictionaries"
      ],
      "metadata": {
        "id": "ZsvD4bsdPrJl"
      },
      "execution_count": 82,
      "outputs": []
    },
    {
      "cell_type": "code",
      "source": [
        "tfidf_vectorizer = TfidfVectorizer(stop_words= list(nlp.Defaults.stop_words), max_features=500)\n",
        "tfidf_matrix_train = tfidf_vectorizer.fit_transform(two_sites_df['text'])\n"
      ],
      "metadata": {
        "id": "NuxK6doOQJEy"
      },
      "execution_count": 84,
      "outputs": []
    },
    {
      "cell_type": "code",
      "source": [
        "arr = cosine_similarity(tfidf_matrix_train, tfidf_matrix_train)"
      ],
      "metadata": {
        "id": "X4IzWYINQQqw"
      },
      "execution_count": 85,
      "outputs": []
    },
    {
      "cell_type": "code",
      "source": [
        "plt.figure(figsize=(10, 10))\n",
        "plt.title('Degree of similarity of articles from newsbeast.gr and ert.gr (May-June 2023)', y=1.02, fontweight='bold')\n",
        "sns.heatmap(data=arr, annot=True, vmin=0.05, vmax=0.98, cmap=\"PiYG\")\n",
        "plt.xticks([0, 1], ['newsbeast.gr', 'ert.gr'])\n",
        "plt.yticks([0, 1], ['newsbeast.gr', 'ert.gr'])"
      ],
      "metadata": {
        "colab": {
          "base_uri": "https://localhost:8080/",
          "height": 929
        },
        "id": "ZWsNpTGyQVG3",
        "outputId": "8df12539-a1ef-4c80-d458-e7ce1bff1da1"
      },
      "execution_count": 92,
      "outputs": [
        {
          "output_type": "execute_result",
          "data": {
            "text/plain": [
              "([<matplotlib.axis.YTick at 0x7f95094f3af0>,\n",
              "  <matplotlib.axis.YTick at 0x7f95094f3490>],\n",
              " [Text(0, 0, 'newsbeast.gr'), Text(0, 1, 'ert.gr')])"
            ]
          },
          "metadata": {},
          "execution_count": 92
        },
        {
          "output_type": "display_data",
          "data": {
            "text/plain": [
              "<Figure size 1000x1000 with 2 Axes>"
            ],
            "image/png": "[encoded data removed]"
          },
          "metadata": {}
        }
      ]
    }
  ],
  "metadata": {
    "colab": {
      "provenance": []
    },
    "kernelspec": {
      "display_name": "Python 3",
      "name": "python3"
    },
    "language_info": {
      "name": "python"
    }
  },
  "nbformat": 4,
  "nbformat_minor": 0
}